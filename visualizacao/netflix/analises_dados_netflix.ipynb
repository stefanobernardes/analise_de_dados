{
 "cells": [
  {
   "cell_type": "markdown",
   "metadata": {
    "collapsed": true,
    "pycharm": {
     "name": "#%% md\n"
    }
   },
   "source": [
    "# Project #1\n",
    "## Data Visualization (LECD) 2024/25\n",
    "\n",
    "#### Student name: Stéfano Cardoso Bernardes Nascimento"
   ]
  },
  {
   "cell_type": "markdown",
   "metadata": {
    "collapsed": false,
    "pycharm": {
     "name": "#%% md\n"
    }
   },
   "source": [
    "## Instructions\n",
    "- Do not modify the structure of this notebook!\n",
    "- Fill-in the corresponding cells with the code or text depending on the objective\n",
    "- You can use this template as a working notebook, or copy&paste your final code here\n",
    "- It is recommended that you export and submit the rendered version of the notebook\n",
    "- Submit the notebook not later than the date specified on the Inforestudante webpage of the course\n"
   ]
  },
  {
   "cell_type": "markdown",
   "metadata": {
    "collapsed": false,
    "pycharm": {
     "name": "#%% md\n"
    }
   },
   "source": [
    "## Data\n",
    "#### Provide a brief description of the chosen dataset and the attributes. If any cleaning or filtering was done, also describe it in this section\n",
    "\n",
    "O arquivo do dataset escolhido se chama 'netflix_titles.csv', é sobre os detalhes dos títulos adicionados na plataforma da Netflix ao longo dos anos. Os atributos escolhidos para serem analisados foram o 'type', 'date_added', 'release_year' e 'duration'. O atributo 'type' refere-se ao tipo de produção audiovisual, pode a ser filmes ou Tv Shows. O atributo 'date_added' refere-se a data que uma determinada mídia foi adicionada na Netflix, variando ao longo dos anos de 2008 a 2021. O atributo 'duration' refere-se ao tempo de duração dessas mídias, pode a ser em minutos se forem filmes ou em quantidade de temporadas se forem TV Shows. Por fim, o atributo 'release_year' define a idade média de um conjunto de títulos lançado num determinado ano. Foi realizado um processo de limpeza dos dados para eliminar campos com espaços 'extras', também foi realizado uma filtragem dos dados especificamente nas colunas 'date_added' e 'duration', para extrair em cada célula apenas valores numéricos. Isso permitiu trabalhar a contagem e os cálculos desses dados de forma mais segura e eficiente."
   ]
  },
  {
   "cell_type": "code",
   "execution_count": 9,
   "metadata": {
    "collapsed": false,
    "pycharm": {
     "name": "#%%\n"
    }
   },
   "outputs": [],
   "source": [
    "# import your dataset in this section (cell)\n",
    "import pandas as pd\n",
    "import numpy as np\n",
    "import plotly.graph_objs as go\n",
    "\n",
    "# Realiza a importação do dataset.\n",
    "df=pd.read_csv('netflix_titles.csv')\n",
    "\n",
    "# Limpa os espaços extras de todas as colunas.\n",
    "df[df.select_dtypes(['object']).columns] = df.select_dtypes(['object']).apply(lambda x: x.str.strip())\n",
    "\n",
    "# Converte a coluna 'release_year' para numérico, se ainda não estiver.\n",
    "df['release_year'] = pd.to_numeric(df['release_year'], errors='coerce')\n",
    "\n",
    "# Cria a coluna 'year_added' para receber apenas os anos dos campos da coluna date_added.\n",
    "df['date_added'] = pd.to_datetime(\n",
    "    df['date_added'], \n",
    "    format='%B %d, %Y', \n",
    "    errors='coerce'\n",
    ")\n",
    "df['year_added'] = df['date_added'].dt.year\n",
    "\n",
    "# Remove os registros nulos da coluna 'year_added'.\n",
    "df = df.dropna(subset=['year_added'])\n",
    "\n",
    "# Extrai apenas os números da coluna 'duration'.\n",
    "df['duration_num'] = df['duration'].str.extract(r'(\\d+)').astype(float)"
   ]
  },
  {
   "cell_type": "markdown",
   "metadata": {
    "collapsed": false,
    "pycharm": {
     "name": "#%% md\n"
    }
   },
   "source": [
    "## Visualization model #1"
   ]
  },
  {
   "cell_type": "code",
   "execution_count": 10,
   "metadata": {
    "collapsed": false,
    "pycharm": {
     "name": "#%%\n"
    }
   },
   "outputs": [
    {
     "data": {
      "application/vnd.plotly.v1+json": {
       "config": {
        "plotlyServerURL": "https://plot.ly"
       },
       "data": [
        {
         "customdata": [
          [
           81,
           2006
          ],
          [
           66.5,
           2008
          ],
          [
           84,
           1987
          ],
          [
           93.46153846153847,
           1991.076923076923
          ],
          [
           62,
           2011
          ],
          [
           83.5,
           2012.6666666666667
          ],
          [
           77,
           2012.4736842105262
          ],
          [
           83.57142857142857,
           2014.5892857142858
          ],
          [
           83.61354581673307,
           2014.00790513834
          ],
          [
           95.68019093078759,
           2012.8438617401669
          ],
          [
           101.7396928051738,
           2013.2109943411479
          ],
          [
           99.92345505617978,
           2012.3441011235955
          ],
          [
           101.58566978193146,
           2013.9727414330218
          ],
          [
           102.83987915407855,
           2013.3041289023163
          ]
         ],
         "hovertemplate": "<b>Ano:</b> %{x}<br><b>Total:</b> %{y}<br><b>Média de duração (min):</b> %{customdata[0]:.2f}<br><b>Média de ano de lançamento:</b> %{customdata[1]:.0f}<br><extra></extra>",
         "marker": {
          "color": [
           0.46523154312768167,
           0.11018641810918776,
           0.5386891552004736,
           0.770363162506971,
           0,
           0.5264462198550082,
           0.3672880603639592,
           0.528195210618646,
           0.5292264880410301,
           0.8246887999771189,
           0.9730609793247914,
           0.9285888166589368,
           0.9692895914942531,
           1
          ],
          "colorbar": {
           "len": 0.35,
           "thickness": 15,
           "title": {
            "text": "Média de duração (min):"
           },
           "x": 1.02,
           "y": 0.75,
           "yanchor": "top"
          },
          "colorscale": [
           [
            0,
            "rgb(247,251,255)"
           ],
           [
            0.125,
            "rgb(222,235,247)"
           ],
           [
            0.25,
            "rgb(198,219,239)"
           ],
           [
            0.375,
            "rgb(158,202,225)"
           ],
           [
            0.5,
            "rgb(107,174,214)"
           ],
           [
            0.625,
            "rgb(66,146,198)"
           ],
           [
            0.75,
            "rgb(33,113,181)"
           ],
           [
            0.875,
            "rgb(8,81,156)"
           ],
           [
            1,
            "rgb(8,48,107)"
           ]
          ],
          "showscale": true
         },
         "name": "Filmes",
         "type": "bar",
         "width": 0.4,
         "x": [
          2008,
          2009,
          2010,
          2011,
          2012,
          2013,
          2014,
          2015,
          2016,
          2017,
          2018,
          2019,
          2020,
          2021
         ],
         "y": [
          1,
          2,
          1,
          13,
          3,
          6,
          19,
          56,
          253,
          839,
          1237,
          1424,
          1284,
          993
         ]
        },
        {
         "customdata": [
          [
           1,
           2007
          ],
          [
           3.4,
           2012.2
          ],
          [
           4.8,
           2005.4
          ],
          [
           2.6538461538461537,
           2011.6538461538462
          ],
          [
           1.4829545454545454,
           2011.6931818181818
          ],
          [
           1.679083094555874,
           2013.593123209169
          ],
          [
           1.6771844660194175,
           2015.878640776699
          ],
          [
           1.5692567567567568,
           2017.0557432432433
          ],
          [
           1.853781512605042,
           2018.2386554621849
          ],
          [
           1.9564356435643564,
           2019.0752475247525
          ]
         ],
         "hovertemplate": "<b>Ano:</b> %{x}<br><b>Total:</b> %{y}<br><b>Média de temporadas:</b> %{customdata[0]:.2f}<br><b>Média de ano de lançamento:</b> %{customdata[1]:.0f}<br><extra></extra>",
         "marker": {
          "color": [
           0,
           0.631578947368421,
           1,
           0.4352226720647773,
           0.1270933014354067,
           0.17870607751470366,
           0.17820643842616252,
           0.14980440967283074,
           0.2246793454223795,
           0.2516935904116728
          ],
          "colorbar": {
           "len": 0.35,
           "thickness": 15,
           "title": {
            "text": "Média de temporadas:"
           },
           "x": 1.02,
           "y": 0.4,
           "yanchor": "top"
          },
          "colorscale": [
           [
            0,
            "rgb(255,245,240)"
           ],
           [
            0.125,
            "rgb(254,224,210)"
           ],
           [
            0.25,
            "rgb(252,187,161)"
           ],
           [
            0.375,
            "rgb(252,146,114)"
           ],
           [
            0.5,
            "rgb(251,106,74)"
           ],
           [
            0.625,
            "rgb(239,59,44)"
           ],
           [
            0.75,
            "rgb(203,24,29)"
           ],
           [
            0.875,
            "rgb(165,15,21)"
           ],
           [
            1,
            "rgb(103,0,13)"
           ]
          ],
          "showscale": true
         },
         "name": "Séries",
         "type": "bar",
         "width": 0.4,
         "x": [
          2008,
          2013,
          2014,
          2015,
          2016,
          2017,
          2018,
          2019,
          2020,
          2021
         ],
         "y": [
          1,
          5,
          5,
          26,
          176,
          349,
          412,
          592,
          595,
          505
         ]
        }
       ],
       "layout": {
        "bargap": 0.2,
        "barmode": "group",
        "legend": {
         "bgcolor": "rgba(0,0,0,0)",
         "bordercolor": "rgba(0,0,0,0)",
         "title": {
          "text": "Legenda"
         },
         "x": 1.02,
         "xanchor": "left",
         "y": 1,
         "yanchor": "top"
        },
        "margin": {
         "r": 200,
         "t": 80
        },
        "template": {
         "data": {
          "bar": [
           {
            "error_x": {
             "color": "#2a3f5f"
            },
            "error_y": {
             "color": "#2a3f5f"
            },
            "marker": {
             "line": {
              "color": "#E5ECF6",
              "width": 0.5
             },
             "pattern": {
              "fillmode": "overlay",
              "size": 10,
              "solidity": 0.2
             }
            },
            "type": "bar"
           }
          ],
          "barpolar": [
           {
            "marker": {
             "line": {
              "color": "#E5ECF6",
              "width": 0.5
             },
             "pattern": {
              "fillmode": "overlay",
              "size": 10,
              "solidity": 0.2
             }
            },
            "type": "barpolar"
           }
          ],
          "carpet": [
           {
            "aaxis": {
             "endlinecolor": "#2a3f5f",
             "gridcolor": "white",
             "linecolor": "white",
             "minorgridcolor": "white",
             "startlinecolor": "#2a3f5f"
            },
            "baxis": {
             "endlinecolor": "#2a3f5f",
             "gridcolor": "white",
             "linecolor": "white",
             "minorgridcolor": "white",
             "startlinecolor": "#2a3f5f"
            },
            "type": "carpet"
           }
          ],
          "choropleth": [
           {
            "colorbar": {
             "outlinewidth": 0,
             "ticks": ""
            },
            "type": "choropleth"
           }
          ],
          "contour": [
           {
            "colorbar": {
             "outlinewidth": 0,
             "ticks": ""
            },
            "colorscale": [
             [
              0,
              "#0d0887"
             ],
             [
              0.1111111111111111,
              "#46039f"
             ],
             [
              0.2222222222222222,
              "#7201a8"
             ],
             [
              0.3333333333333333,
              "#9c179e"
             ],
             [
              0.4444444444444444,
              "#bd3786"
             ],
             [
              0.5555555555555556,
              "#d8576b"
             ],
             [
              0.6666666666666666,
              "#ed7953"
             ],
             [
              0.7777777777777778,
              "#fb9f3a"
             ],
             [
              0.8888888888888888,
              "#fdca26"
             ],
             [
              1,
              "#f0f921"
             ]
            ],
            "type": "contour"
           }
          ],
          "contourcarpet": [
           {
            "colorbar": {
             "outlinewidth": 0,
             "ticks": ""
            },
            "type": "contourcarpet"
           }
          ],
          "heatmap": [
           {
            "colorbar": {
             "outlinewidth": 0,
             "ticks": ""
            },
            "colorscale": [
             [
              0,
              "#0d0887"
             ],
             [
              0.1111111111111111,
              "#46039f"
             ],
             [
              0.2222222222222222,
              "#7201a8"
             ],
             [
              0.3333333333333333,
              "#9c179e"
             ],
             [
              0.4444444444444444,
              "#bd3786"
             ],
             [
              0.5555555555555556,
              "#d8576b"
             ],
             [
              0.6666666666666666,
              "#ed7953"
             ],
             [
              0.7777777777777778,
              "#fb9f3a"
             ],
             [
              0.8888888888888888,
              "#fdca26"
             ],
             [
              1,
              "#f0f921"
             ]
            ],
            "type": "heatmap"
           }
          ],
          "heatmapgl": [
           {
            "colorbar": {
             "outlinewidth": 0,
             "ticks": ""
            },
            "colorscale": [
             [
              0,
              "#0d0887"
             ],
             [
              0.1111111111111111,
              "#46039f"
             ],
             [
              0.2222222222222222,
              "#7201a8"
             ],
             [
              0.3333333333333333,
              "#9c179e"
             ],
             [
              0.4444444444444444,
              "#bd3786"
             ],
             [
              0.5555555555555556,
              "#d8576b"
             ],
             [
              0.6666666666666666,
              "#ed7953"
             ],
             [
              0.7777777777777778,
              "#fb9f3a"
             ],
             [
              0.8888888888888888,
              "#fdca26"
             ],
             [
              1,
              "#f0f921"
             ]
            ],
            "type": "heatmapgl"
           }
          ],
          "histogram": [
           {
            "marker": {
             "pattern": {
              "fillmode": "overlay",
              "size": 10,
              "solidity": 0.2
             }
            },
            "type": "histogram"
           }
          ],
          "histogram2d": [
           {
            "colorbar": {
             "outlinewidth": 0,
             "ticks": ""
            },
            "colorscale": [
             [
              0,
              "#0d0887"
             ],
             [
              0.1111111111111111,
              "#46039f"
             ],
             [
              0.2222222222222222,
              "#7201a8"
             ],
             [
              0.3333333333333333,
              "#9c179e"
             ],
             [
              0.4444444444444444,
              "#bd3786"
             ],
             [
              0.5555555555555556,
              "#d8576b"
             ],
             [
              0.6666666666666666,
              "#ed7953"
             ],
             [
              0.7777777777777778,
              "#fb9f3a"
             ],
             [
              0.8888888888888888,
              "#fdca26"
             ],
             [
              1,
              "#f0f921"
             ]
            ],
            "type": "histogram2d"
           }
          ],
          "histogram2dcontour": [
           {
            "colorbar": {
             "outlinewidth": 0,
             "ticks": ""
            },
            "colorscale": [
             [
              0,
              "#0d0887"
             ],
             [
              0.1111111111111111,
              "#46039f"
             ],
             [
              0.2222222222222222,
              "#7201a8"
             ],
             [
              0.3333333333333333,
              "#9c179e"
             ],
             [
              0.4444444444444444,
              "#bd3786"
             ],
             [
              0.5555555555555556,
              "#d8576b"
             ],
             [
              0.6666666666666666,
              "#ed7953"
             ],
             [
              0.7777777777777778,
              "#fb9f3a"
             ],
             [
              0.8888888888888888,
              "#fdca26"
             ],
             [
              1,
              "#f0f921"
             ]
            ],
            "type": "histogram2dcontour"
           }
          ],
          "mesh3d": [
           {
            "colorbar": {
             "outlinewidth": 0,
             "ticks": ""
            },
            "type": "mesh3d"
           }
          ],
          "parcoords": [
           {
            "line": {
             "colorbar": {
              "outlinewidth": 0,
              "ticks": ""
             }
            },
            "type": "parcoords"
           }
          ],
          "pie": [
           {
            "automargin": true,
            "type": "pie"
           }
          ],
          "scatter": [
           {
            "fillpattern": {
             "fillmode": "overlay",
             "size": 10,
             "solidity": 0.2
            },
            "type": "scatter"
           }
          ],
          "scatter3d": [
           {
            "line": {
             "colorbar": {
              "outlinewidth": 0,
              "ticks": ""
             }
            },
            "marker": {
             "colorbar": {
              "outlinewidth": 0,
              "ticks": ""
             }
            },
            "type": "scatter3d"
           }
          ],
          "scattercarpet": [
           {
            "marker": {
             "colorbar": {
              "outlinewidth": 0,
              "ticks": ""
             }
            },
            "type": "scattercarpet"
           }
          ],
          "scattergeo": [
           {
            "marker": {
             "colorbar": {
              "outlinewidth": 0,
              "ticks": ""
             }
            },
            "type": "scattergeo"
           }
          ],
          "scattergl": [
           {
            "marker": {
             "colorbar": {
              "outlinewidth": 0,
              "ticks": ""
             }
            },
            "type": "scattergl"
           }
          ],
          "scattermapbox": [
           {
            "marker": {
             "colorbar": {
              "outlinewidth": 0,
              "ticks": ""
             }
            },
            "type": "scattermapbox"
           }
          ],
          "scatterpolar": [
           {
            "marker": {
             "colorbar": {
              "outlinewidth": 0,
              "ticks": ""
             }
            },
            "type": "scatterpolar"
           }
          ],
          "scatterpolargl": [
           {
            "marker": {
             "colorbar": {
              "outlinewidth": 0,
              "ticks": ""
             }
            },
            "type": "scatterpolargl"
           }
          ],
          "scatterternary": [
           {
            "marker": {
             "colorbar": {
              "outlinewidth": 0,
              "ticks": ""
             }
            },
            "type": "scatterternary"
           }
          ],
          "surface": [
           {
            "colorbar": {
             "outlinewidth": 0,
             "ticks": ""
            },
            "colorscale": [
             [
              0,
              "#0d0887"
             ],
             [
              0.1111111111111111,
              "#46039f"
             ],
             [
              0.2222222222222222,
              "#7201a8"
             ],
             [
              0.3333333333333333,
              "#9c179e"
             ],
             [
              0.4444444444444444,
              "#bd3786"
             ],
             [
              0.5555555555555556,
              "#d8576b"
             ],
             [
              0.6666666666666666,
              "#ed7953"
             ],
             [
              0.7777777777777778,
              "#fb9f3a"
             ],
             [
              0.8888888888888888,
              "#fdca26"
             ],
             [
              1,
              "#f0f921"
             ]
            ],
            "type": "surface"
           }
          ],
          "table": [
           {
            "cells": {
             "fill": {
              "color": "#EBF0F8"
             },
             "line": {
              "color": "white"
             }
            },
            "header": {
             "fill": {
              "color": "#C8D4E3"
             },
             "line": {
              "color": "white"
             }
            },
            "type": "table"
           }
          ]
         },
         "layout": {
          "annotationdefaults": {
           "arrowcolor": "#2a3f5f",
           "arrowhead": 0,
           "arrowwidth": 1
          },
          "autotypenumbers": "strict",
          "coloraxis": {
           "colorbar": {
            "outlinewidth": 0,
            "ticks": ""
           }
          },
          "colorscale": {
           "diverging": [
            [
             0,
             "#8e0152"
            ],
            [
             0.1,
             "#c51b7d"
            ],
            [
             0.2,
             "#de77ae"
            ],
            [
             0.3,
             "#f1b6da"
            ],
            [
             0.4,
             "#fde0ef"
            ],
            [
             0.5,
             "#f7f7f7"
            ],
            [
             0.6,
             "#e6f5d0"
            ],
            [
             0.7,
             "#b8e186"
            ],
            [
             0.8,
             "#7fbc41"
            ],
            [
             0.9,
             "#4d9221"
            ],
            [
             1,
             "#276419"
            ]
           ],
           "sequential": [
            [
             0,
             "#0d0887"
            ],
            [
             0.1111111111111111,
             "#46039f"
            ],
            [
             0.2222222222222222,
             "#7201a8"
            ],
            [
             0.3333333333333333,
             "#9c179e"
            ],
            [
             0.4444444444444444,
             "#bd3786"
            ],
            [
             0.5555555555555556,
             "#d8576b"
            ],
            [
             0.6666666666666666,
             "#ed7953"
            ],
            [
             0.7777777777777778,
             "#fb9f3a"
            ],
            [
             0.8888888888888888,
             "#fdca26"
            ],
            [
             1,
             "#f0f921"
            ]
           ],
           "sequentialminus": [
            [
             0,
             "#0d0887"
            ],
            [
             0.1111111111111111,
             "#46039f"
            ],
            [
             0.2222222222222222,
             "#7201a8"
            ],
            [
             0.3333333333333333,
             "#9c179e"
            ],
            [
             0.4444444444444444,
             "#bd3786"
            ],
            [
             0.5555555555555556,
             "#d8576b"
            ],
            [
             0.6666666666666666,
             "#ed7953"
            ],
            [
             0.7777777777777778,
             "#fb9f3a"
            ],
            [
             0.8888888888888888,
             "#fdca26"
            ],
            [
             1,
             "#f0f921"
            ]
           ]
          },
          "colorway": [
           "#636efa",
           "#EF553B",
           "#00cc96",
           "#ab63fa",
           "#FFA15A",
           "#19d3f3",
           "#FF6692",
           "#B6E880",
           "#FF97FF",
           "#FECB52"
          ],
          "font": {
           "color": "#2a3f5f"
          },
          "geo": {
           "bgcolor": "white",
           "lakecolor": "white",
           "landcolor": "#E5ECF6",
           "showlakes": true,
           "showland": true,
           "subunitcolor": "white"
          },
          "hoverlabel": {
           "align": "left"
          },
          "hovermode": "closest",
          "mapbox": {
           "style": "light"
          },
          "paper_bgcolor": "white",
          "plot_bgcolor": "#E5ECF6",
          "polar": {
           "angularaxis": {
            "gridcolor": "white",
            "linecolor": "white",
            "ticks": ""
           },
           "bgcolor": "#E5ECF6",
           "radialaxis": {
            "gridcolor": "white",
            "linecolor": "white",
            "ticks": ""
           }
          },
          "scene": {
           "xaxis": {
            "backgroundcolor": "#E5ECF6",
            "gridcolor": "white",
            "gridwidth": 2,
            "linecolor": "white",
            "showbackground": true,
            "ticks": "",
            "zerolinecolor": "white"
           },
           "yaxis": {
            "backgroundcolor": "#E5ECF6",
            "gridcolor": "white",
            "gridwidth": 2,
            "linecolor": "white",
            "showbackground": true,
            "ticks": "",
            "zerolinecolor": "white"
           },
           "zaxis": {
            "backgroundcolor": "#E5ECF6",
            "gridcolor": "white",
            "gridwidth": 2,
            "linecolor": "white",
            "showbackground": true,
            "ticks": "",
            "zerolinecolor": "white"
           }
          },
          "shapedefaults": {
           "line": {
            "color": "#2a3f5f"
           }
          },
          "ternary": {
           "aaxis": {
            "gridcolor": "white",
            "linecolor": "white",
            "ticks": ""
           },
           "baxis": {
            "gridcolor": "white",
            "linecolor": "white",
            "ticks": ""
           },
           "bgcolor": "#E5ECF6",
           "caxis": {
            "gridcolor": "white",
            "linecolor": "white",
            "ticks": ""
           }
          },
          "title": {
           "x": 0.05
          },
          "xaxis": {
           "automargin": true,
           "gridcolor": "white",
           "linecolor": "white",
           "ticks": "",
           "title": {
            "standoff": 15
           },
           "zerolinecolor": "white",
           "zerolinewidth": 2
          },
          "yaxis": {
           "automargin": true,
           "gridcolor": "white",
           "linecolor": "white",
           "ticks": "",
           "title": {
            "standoff": 15
           },
           "zerolinecolor": "white",
           "zerolinewidth": 2
          }
         }
        },
        "title": {
         "text": "Títulos adicionados na Netflix"
        },
        "xaxis": {
         "tickmode": "array",
         "tickvals": [
          2008,
          2009,
          2010,
          2011,
          2012,
          2013,
          2014,
          2015,
          2016,
          2017,
          2018,
          2019,
          2020,
          2021
         ],
         "title": {
          "text": "Ano"
         }
        },
        "yaxis": {
         "dtick": 300,
         "range": [
          0,
          1566.4
         ],
         "tickmode": "linear",
         "title": {
          "text": "Quantidade"
         }
        }
       }
      }
     },
     "metadata": {},
     "output_type": "display_data"
    }
   ],
   "source": [
    "# Define a lista de anos para o eixo X, garantindo que esteja ordenada.\n",
    "anos = sorted(df['year_added'].unique())\n",
    "\n",
    "# Criação de variáveis que recebem os campos do atributo type.\n",
    "movies_df = df[df['type'] == 'Movie']\n",
    "tv_shows_df = df[df['type'] == 'TV Show']\n",
    "\n",
    "# Realiza a contagem da quantidade de filmes e a média de duração e release_year de acordo com o ano.\n",
    "movies_grouped = movies_df.groupby('year_added').agg(\n",
    "    counts=('title', 'count'),\n",
    "    avg_duration=('duration_num', 'mean'),\n",
    "    avg_release_year=('release_year', 'mean')  # Média de release_year\n",
    ").reset_index()\n",
    "\n",
    "# Realiza a contagem da quantidade de Tv Shows e a média de temporadas e release_year de acordo com o ano.\n",
    "tv_shows_grouped = tv_shows_df.groupby('year_added').agg(\n",
    "    counts=('title', 'count'),\n",
    "    avg_seasons=('duration_num', 'mean'),\n",
    "    avg_release_year=('release_year', 'mean') \n",
    ").reset_index()\n",
    "\n",
    "# Normaliza os valores médios para o intervalo entre 0 e 1.\n",
    "movies_grouped['normalized_avg_duration'] = (\n",
    "    movies_grouped['avg_duration'] - movies_grouped['avg_duration'].min()\n",
    ") / (movies_grouped['avg_duration'].max() - movies_grouped['avg_duration'].min())\n",
    "\n",
    "tv_shows_grouped['normalized_avg_seasons'] = (\n",
    "    tv_shows_grouped['avg_seasons'] - tv_shows_grouped['avg_seasons'].min()\n",
    ") / (tv_shows_grouped['avg_seasons'].max() - tv_shows_grouped['avg_seasons'].min())\n",
    "\n",
    "# Define uma largura fixa para as barras dos gráficos.\n",
    "fixed_bar_width = 0.4\n",
    "\n",
    "# Cria a figura (combinação do Layout e a definição dos dados).\n",
    "fig = go.Figure()\n",
    "\n",
    "# Adiciona na legenda a barra de cor referência (filme) com escala (valor média em minutos) e hover com média de release_year.\n",
    "fig.add_trace(\n",
    "    go.Bar(\n",
    "        x=movies_grouped['year_added'],\n",
    "        y=movies_grouped['counts'],\n",
    "        name='Filmes',\n",
    "        marker=dict(\n",
    "            color=movies_grouped['normalized_avg_duration'],\n",
    "            colorscale='Blues',\n",
    "            showscale=True,\n",
    "            colorbar=dict(\n",
    "                title='Média de duração (min):',\n",
    "                x=1.02,\n",
    "                len=0.35,\n",
    "                thickness=15,\n",
    "                y=0.75,\n",
    "                yanchor='top'\n",
    "            )\n",
    "        ),\n",
    "        width=fixed_bar_width,\n",
    "        # Combina 'avg_duration' e 'avg_release_year' em um único array para customdata.\n",
    "        customdata=np.stack((movies_grouped['avg_duration'], movies_grouped['avg_release_year']), axis=-1),\n",
    "        \n",
    "        hovertemplate=(\n",
    "            '<b>Ano:</b> %{x}<br>' +\n",
    "            '<b>Total:</b> %{y}<br>' +\n",
    "            '<b>Média de duração (min):</b> %{customdata[0]:.2f}<br>' +\n",
    "            '<b>Média de ano de lançamento:</b> %{customdata[1]:.0f}<br>' +\n",
    "            '<extra></extra>'\n",
    "        )\n",
    "    )\n",
    ")\n",
    "# Adiciona na legenda a barra de cor referência (Tv Show) com escala (valor média em temporadas) e hover com média de release_year.\n",
    "fig.add_trace(\n",
    "    go.Bar(\n",
    "        x=tv_shows_grouped['year_added'],\n",
    "        y=tv_shows_grouped['counts'],\n",
    "        name='Séries',\n",
    "        marker=dict(\n",
    "            color=tv_shows_grouped['normalized_avg_seasons'],\n",
    "            colorscale='Reds',\n",
    "            showscale=True,\n",
    "            colorbar=dict(\n",
    "                title='Média de temporadas:',\n",
    "                x=1.02,\n",
    "                len=0.35,\n",
    "                thickness=15,\n",
    "                y=0.4,\n",
    "                yanchor='top'\n",
    "            )\n",
    "        ),\n",
    "        width=fixed_bar_width,\n",
    "        # Combina 'avg_seasons' e 'avg_release_year' em um único array para customdata\n",
    "        customdata=np.stack((tv_shows_grouped['avg_seasons'], tv_shows_grouped['avg_release_year']), axis=-1),\n",
    "        \n",
    "        hovertemplate=(\n",
    "            '<b>Ano:</b> %{x}<br>' +\n",
    "            '<b>Total:</b> %{y}<br>' +\n",
    "            '<b>Média de temporadas:</b> %{customdata[0]:.2f}<br>' +\n",
    "            '<b>Média de ano de lançamento:</b> %{customdata[1]:.0f}<br>' +\n",
    "            '<extra></extra>'\n",
    "        )\n",
    "    )\n",
    ")\n",
    "# Calcula o valor máximo da contagem entre filmes e séries.\n",
    "max_count = max(movies_grouped['counts'].max(), tv_shows_grouped['counts'].max())\n",
    "\n",
    "# Define o limite superior do eixo Y com uma margem de 10%.\n",
    "y_axis_max = max_count * 1.1\n",
    "\n",
    "# Atualiza o layout.\n",
    "fig.update_layout(\n",
    "    # Propriedades de estilização do Layout.\n",
    "    title='Títulos adicionados na Netflix',\n",
    "    xaxis_title='Ano',\n",
    "    yaxis_title='Quantidade',\n",
    "    legend_title='Legenda',\n",
    "    barmode='group',\n",
    "    bargap=0.2,\n",
    "    yaxis=dict(\n",
    "        title='Quantidade',\n",
    "        range=[0, y_axis_max],\n",
    "        tickmode='linear',\n",
    "        dtick=300\n",
    "    ),\n",
    "    xaxis=dict(\n",
    "        title='Ano',\n",
    "        tickmode='array',\n",
    "        tickvals=anos\n",
    "    ),\n",
    "    legend=dict(\n",
    "        x=1.02,\n",
    "        y=1,\n",
    "        xanchor='left',\n",
    "        yanchor='top',\n",
    "        bgcolor='rgba(0,0,0,0)',\n",
    "        bordercolor='rgba(0,0,0,0)'\n",
    "    ),\n",
    "    margin=dict(t=80, r=200)\n",
    ")\n",
    "\n",
    "# Exibe o gráfico.\n",
    "fig.show()"
   ]
  },
  {
   "cell_type": "markdown",
   "metadata": {
    "collapsed": false
   },
   "source": [
    "## Visualization model #2"
   ]
  },
  {
   "cell_type": "code",
   "execution_count": 11,
   "metadata": {
    "collapsed": false,
    "pycharm": {
     "name": "#%%\n"
    }
   },
   "outputs": [
    {
     "data": {
      "application/vnd.plotly.v1+json": {
       "config": {
        "plotlyServerURL": "https://plot.ly"
       },
       "data": [
        {
         "customdata": [
          [
           1,
           2006
          ],
          [
           2,
           2008
          ],
          [
           1,
           1987
          ],
          [
           13,
           1991.076923076923
          ],
          [
           3,
           2011
          ],
          [
           6,
           2012.6666666666667
          ],
          [
           19,
           2012.4736842105262
          ],
          [
           56,
           2014.5892857142858
          ],
          [
           253,
           2014.00790513834
          ],
          [
           839,
           2012.8438617401669
          ],
          [
           1237,
           2013.2109943411479
          ],
          [
           1424,
           2012.3441011235955
          ],
          [
           1284,
           2013.9727414330218
          ],
          [
           993,
           2013.3041289023163
          ]
         ],
         "hovertemplate": "<b>Ano:</b> %{x}<br><b>Total de filmes:</b> %{y}<br><b>Média de ano de lançamento:</b> %{customdata[1]:.0f}<br><extra></extra>",
         "line": {
          "color": "blue"
         },
         "mode": "lines+markers",
         "name": "Total de filmes",
         "type": "scatter",
         "x": [
          2008,
          2009,
          2010,
          2011,
          2012,
          2013,
          2014,
          2015,
          2016,
          2017,
          2018,
          2019,
          2020,
          2021
         ],
         "y": [
          1,
          2,
          1,
          13,
          3,
          6,
          19,
          56,
          253,
          839,
          1237,
          1424,
          1284,
          993
         ],
         "yaxis": "y"
        },
        {
         "customdata": [
          [
           1,
           2007
          ],
          [
           5,
           2012.2
          ],
          [
           5,
           2005.4
          ],
          [
           26,
           2011.6538461538462
          ],
          [
           176,
           2011.6931818181818
          ],
          [
           349,
           2013.593123209169
          ],
          [
           412,
           2015.878640776699
          ],
          [
           592,
           2017.0557432432433
          ],
          [
           595,
           2018.2386554621849
          ],
          [
           505,
           2019.0752475247525
          ]
         ],
         "hovertemplate": "<b>Ano:</b> %{x}<br><b>Total de séries:</b> %{y}<br><b>Média de ano de lançamento:</b> %{customdata[1]:.0f}<br><extra></extra>",
         "line": {
          "color": "red"
         },
         "mode": "lines+markers",
         "name": "Total de séries",
         "type": "scatter",
         "x": [
          2008,
          2013,
          2014,
          2015,
          2016,
          2017,
          2018,
          2019,
          2020,
          2021
         ],
         "y": [
          1,
          5,
          5,
          26,
          176,
          349,
          412,
          592,
          595,
          505
         ],
         "yaxis": "y"
        },
        {
         "customdata": [
          [
           81,
           2006
          ],
          [
           66.5,
           2008
          ],
          [
           84,
           1987
          ],
          [
           93.46153846153847,
           1991.076923076923
          ],
          [
           62,
           2011
          ],
          [
           83.5,
           2012.6666666666667
          ],
          [
           77,
           2012.4736842105262
          ],
          [
           83.57142857142857,
           2014.5892857142858
          ],
          [
           83.61354581673307,
           2014.00790513834
          ],
          [
           95.68019093078759,
           2012.8438617401669
          ],
          [
           101.7396928051738,
           2013.2109943411479
          ],
          [
           99.92345505617978,
           2012.3441011235955
          ],
          [
           101.58566978193146,
           2013.9727414330218
          ],
          [
           102.83987915407855,
           2013.3041289023163
          ]
         ],
         "hovertemplate": "<b>Ano:</b> %{x}<br><b>Duração Média Filmes (min):</b> %{y:.2f}<br><b>Média de ano de lançamento:</b> %{customdata[1]:.0f}<br><extra></extra>",
         "line": {
          "color": "darkblue",
          "dash": "dash"
         },
         "mode": "lines+markers",
         "name": "Duração Média Filmes (min)",
         "type": "scatter",
         "x": [
          2008,
          2009,
          2010,
          2011,
          2012,
          2013,
          2014,
          2015,
          2016,
          2017,
          2018,
          2019,
          2020,
          2021
         ],
         "y": [
          81,
          66.5,
          84,
          93.46153846153847,
          62,
          83.5,
          77,
          83.57142857142857,
          83.61354581673307,
          95.68019093078759,
          101.7396928051738,
          99.92345505617978,
          101.58566978193146,
          102.83987915407855
         ],
         "yaxis": "y2"
        },
        {
         "customdata": [
          [
           1,
           2007
          ],
          [
           3.4,
           2012.2
          ],
          [
           4.8,
           2005.4
          ],
          [
           2.6538461538461537,
           2011.6538461538462
          ],
          [
           1.4829545454545454,
           2011.6931818181818
          ],
          [
           1.679083094555874,
           2013.593123209169
          ],
          [
           1.6771844660194175,
           2015.878640776699
          ],
          [
           1.5692567567567568,
           2017.0557432432433
          ],
          [
           1.853781512605042,
           2018.2386554621849
          ],
          [
           1.9564356435643564,
           2019.0752475247525
          ]
         ],
         "hovertemplate": "<b>Ano:</b> %{x}<br><b>Média de Temporadas Séries:</b> %{y:.2f}<br><b>Média de ano de lançamento:</b> %{customdata[1]:.0f}<br><extra></extra>",
         "line": {
          "color": "darkred",
          "dash": "dash"
         },
         "mode": "lines+markers",
         "name": "Média de Temporadas Séries",
         "type": "scatter",
         "x": [
          2008,
          2013,
          2014,
          2015,
          2016,
          2017,
          2018,
          2019,
          2020,
          2021
         ],
         "y": [
          1,
          3.4,
          4.8,
          2.6538461538461537,
          1.4829545454545454,
          1.679083094555874,
          1.6771844660194175,
          1.5692567567567568,
          1.853781512605042,
          1.9564356435643564
         ],
         "yaxis": "y2"
        }
       ],
       "layout": {
        "legend": {
         "title": {
          "text": "Legenda"
         }
        },
        "margin": {
         "r": 150,
         "t": 80
        },
        "template": {
         "data": {
          "bar": [
           {
            "error_x": {
             "color": "#2a3f5f"
            },
            "error_y": {
             "color": "#2a3f5f"
            },
            "marker": {
             "line": {
              "color": "#E5ECF6",
              "width": 0.5
             },
             "pattern": {
              "fillmode": "overlay",
              "size": 10,
              "solidity": 0.2
             }
            },
            "type": "bar"
           }
          ],
          "barpolar": [
           {
            "marker": {
             "line": {
              "color": "#E5ECF6",
              "width": 0.5
             },
             "pattern": {
              "fillmode": "overlay",
              "size": 10,
              "solidity": 0.2
             }
            },
            "type": "barpolar"
           }
          ],
          "carpet": [
           {
            "aaxis": {
             "endlinecolor": "#2a3f5f",
             "gridcolor": "white",
             "linecolor": "white",
             "minorgridcolor": "white",
             "startlinecolor": "#2a3f5f"
            },
            "baxis": {
             "endlinecolor": "#2a3f5f",
             "gridcolor": "white",
             "linecolor": "white",
             "minorgridcolor": "white",
             "startlinecolor": "#2a3f5f"
            },
            "type": "carpet"
           }
          ],
          "choropleth": [
           {
            "colorbar": {
             "outlinewidth": 0,
             "ticks": ""
            },
            "type": "choropleth"
           }
          ],
          "contour": [
           {
            "colorbar": {
             "outlinewidth": 0,
             "ticks": ""
            },
            "colorscale": [
             [
              0,
              "#0d0887"
             ],
             [
              0.1111111111111111,
              "#46039f"
             ],
             [
              0.2222222222222222,
              "#7201a8"
             ],
             [
              0.3333333333333333,
              "#9c179e"
             ],
             [
              0.4444444444444444,
              "#bd3786"
             ],
             [
              0.5555555555555556,
              "#d8576b"
             ],
             [
              0.6666666666666666,
              "#ed7953"
             ],
             [
              0.7777777777777778,
              "#fb9f3a"
             ],
             [
              0.8888888888888888,
              "#fdca26"
             ],
             [
              1,
              "#f0f921"
             ]
            ],
            "type": "contour"
           }
          ],
          "contourcarpet": [
           {
            "colorbar": {
             "outlinewidth": 0,
             "ticks": ""
            },
            "type": "contourcarpet"
           }
          ],
          "heatmap": [
           {
            "colorbar": {
             "outlinewidth": 0,
             "ticks": ""
            },
            "colorscale": [
             [
              0,
              "#0d0887"
             ],
             [
              0.1111111111111111,
              "#46039f"
             ],
             [
              0.2222222222222222,
              "#7201a8"
             ],
             [
              0.3333333333333333,
              "#9c179e"
             ],
             [
              0.4444444444444444,
              "#bd3786"
             ],
             [
              0.5555555555555556,
              "#d8576b"
             ],
             [
              0.6666666666666666,
              "#ed7953"
             ],
             [
              0.7777777777777778,
              "#fb9f3a"
             ],
             [
              0.8888888888888888,
              "#fdca26"
             ],
             [
              1,
              "#f0f921"
             ]
            ],
            "type": "heatmap"
           }
          ],
          "heatmapgl": [
           {
            "colorbar": {
             "outlinewidth": 0,
             "ticks": ""
            },
            "colorscale": [
             [
              0,
              "#0d0887"
             ],
             [
              0.1111111111111111,
              "#46039f"
             ],
             [
              0.2222222222222222,
              "#7201a8"
             ],
             [
              0.3333333333333333,
              "#9c179e"
             ],
             [
              0.4444444444444444,
              "#bd3786"
             ],
             [
              0.5555555555555556,
              "#d8576b"
             ],
             [
              0.6666666666666666,
              "#ed7953"
             ],
             [
              0.7777777777777778,
              "#fb9f3a"
             ],
             [
              0.8888888888888888,
              "#fdca26"
             ],
             [
              1,
              "#f0f921"
             ]
            ],
            "type": "heatmapgl"
           }
          ],
          "histogram": [
           {
            "marker": {
             "pattern": {
              "fillmode": "overlay",
              "size": 10,
              "solidity": 0.2
             }
            },
            "type": "histogram"
           }
          ],
          "histogram2d": [
           {
            "colorbar": {
             "outlinewidth": 0,
             "ticks": ""
            },
            "colorscale": [
             [
              0,
              "#0d0887"
             ],
             [
              0.1111111111111111,
              "#46039f"
             ],
             [
              0.2222222222222222,
              "#7201a8"
             ],
             [
              0.3333333333333333,
              "#9c179e"
             ],
             [
              0.4444444444444444,
              "#bd3786"
             ],
             [
              0.5555555555555556,
              "#d8576b"
             ],
             [
              0.6666666666666666,
              "#ed7953"
             ],
             [
              0.7777777777777778,
              "#fb9f3a"
             ],
             [
              0.8888888888888888,
              "#fdca26"
             ],
             [
              1,
              "#f0f921"
             ]
            ],
            "type": "histogram2d"
           }
          ],
          "histogram2dcontour": [
           {
            "colorbar": {
             "outlinewidth": 0,
             "ticks": ""
            },
            "colorscale": [
             [
              0,
              "#0d0887"
             ],
             [
              0.1111111111111111,
              "#46039f"
             ],
             [
              0.2222222222222222,
              "#7201a8"
             ],
             [
              0.3333333333333333,
              "#9c179e"
             ],
             [
              0.4444444444444444,
              "#bd3786"
             ],
             [
              0.5555555555555556,
              "#d8576b"
             ],
             [
              0.6666666666666666,
              "#ed7953"
             ],
             [
              0.7777777777777778,
              "#fb9f3a"
             ],
             [
              0.8888888888888888,
              "#fdca26"
             ],
             [
              1,
              "#f0f921"
             ]
            ],
            "type": "histogram2dcontour"
           }
          ],
          "mesh3d": [
           {
            "colorbar": {
             "outlinewidth": 0,
             "ticks": ""
            },
            "type": "mesh3d"
           }
          ],
          "parcoords": [
           {
            "line": {
             "colorbar": {
              "outlinewidth": 0,
              "ticks": ""
             }
            },
            "type": "parcoords"
           }
          ],
          "pie": [
           {
            "automargin": true,
            "type": "pie"
           }
          ],
          "scatter": [
           {
            "fillpattern": {
             "fillmode": "overlay",
             "size": 10,
             "solidity": 0.2
            },
            "type": "scatter"
           }
          ],
          "scatter3d": [
           {
            "line": {
             "colorbar": {
              "outlinewidth": 0,
              "ticks": ""
             }
            },
            "marker": {
             "colorbar": {
              "outlinewidth": 0,
              "ticks": ""
             }
            },
            "type": "scatter3d"
           }
          ],
          "scattercarpet": [
           {
            "marker": {
             "colorbar": {
              "outlinewidth": 0,
              "ticks": ""
             }
            },
            "type": "scattercarpet"
           }
          ],
          "scattergeo": [
           {
            "marker": {
             "colorbar": {
              "outlinewidth": 0,
              "ticks": ""
             }
            },
            "type": "scattergeo"
           }
          ],
          "scattergl": [
           {
            "marker": {
             "colorbar": {
              "outlinewidth": 0,
              "ticks": ""
             }
            },
            "type": "scattergl"
           }
          ],
          "scattermapbox": [
           {
            "marker": {
             "colorbar": {
              "outlinewidth": 0,
              "ticks": ""
             }
            },
            "type": "scattermapbox"
           }
          ],
          "scatterpolar": [
           {
            "marker": {
             "colorbar": {
              "outlinewidth": 0,
              "ticks": ""
             }
            },
            "type": "scatterpolar"
           }
          ],
          "scatterpolargl": [
           {
            "marker": {
             "colorbar": {
              "outlinewidth": 0,
              "ticks": ""
             }
            },
            "type": "scatterpolargl"
           }
          ],
          "scatterternary": [
           {
            "marker": {
             "colorbar": {
              "outlinewidth": 0,
              "ticks": ""
             }
            },
            "type": "scatterternary"
           }
          ],
          "surface": [
           {
            "colorbar": {
             "outlinewidth": 0,
             "ticks": ""
            },
            "colorscale": [
             [
              0,
              "#0d0887"
             ],
             [
              0.1111111111111111,
              "#46039f"
             ],
             [
              0.2222222222222222,
              "#7201a8"
             ],
             [
              0.3333333333333333,
              "#9c179e"
             ],
             [
              0.4444444444444444,
              "#bd3786"
             ],
             [
              0.5555555555555556,
              "#d8576b"
             ],
             [
              0.6666666666666666,
              "#ed7953"
             ],
             [
              0.7777777777777778,
              "#fb9f3a"
             ],
             [
              0.8888888888888888,
              "#fdca26"
             ],
             [
              1,
              "#f0f921"
             ]
            ],
            "type": "surface"
           }
          ],
          "table": [
           {
            "cells": {
             "fill": {
              "color": "#EBF0F8"
             },
             "line": {
              "color": "white"
             }
            },
            "header": {
             "fill": {
              "color": "#C8D4E3"
             },
             "line": {
              "color": "white"
             }
            },
            "type": "table"
           }
          ]
         },
         "layout": {
          "annotationdefaults": {
           "arrowcolor": "#2a3f5f",
           "arrowhead": 0,
           "arrowwidth": 1
          },
          "autotypenumbers": "strict",
          "coloraxis": {
           "colorbar": {
            "outlinewidth": 0,
            "ticks": ""
           }
          },
          "colorscale": {
           "diverging": [
            [
             0,
             "#8e0152"
            ],
            [
             0.1,
             "#c51b7d"
            ],
            [
             0.2,
             "#de77ae"
            ],
            [
             0.3,
             "#f1b6da"
            ],
            [
             0.4,
             "#fde0ef"
            ],
            [
             0.5,
             "#f7f7f7"
            ],
            [
             0.6,
             "#e6f5d0"
            ],
            [
             0.7,
             "#b8e186"
            ],
            [
             0.8,
             "#7fbc41"
            ],
            [
             0.9,
             "#4d9221"
            ],
            [
             1,
             "#276419"
            ]
           ],
           "sequential": [
            [
             0,
             "#0d0887"
            ],
            [
             0.1111111111111111,
             "#46039f"
            ],
            [
             0.2222222222222222,
             "#7201a8"
            ],
            [
             0.3333333333333333,
             "#9c179e"
            ],
            [
             0.4444444444444444,
             "#bd3786"
            ],
            [
             0.5555555555555556,
             "#d8576b"
            ],
            [
             0.6666666666666666,
             "#ed7953"
            ],
            [
             0.7777777777777778,
             "#fb9f3a"
            ],
            [
             0.8888888888888888,
             "#fdca26"
            ],
            [
             1,
             "#f0f921"
            ]
           ],
           "sequentialminus": [
            [
             0,
             "#0d0887"
            ],
            [
             0.1111111111111111,
             "#46039f"
            ],
            [
             0.2222222222222222,
             "#7201a8"
            ],
            [
             0.3333333333333333,
             "#9c179e"
            ],
            [
             0.4444444444444444,
             "#bd3786"
            ],
            [
             0.5555555555555556,
             "#d8576b"
            ],
            [
             0.6666666666666666,
             "#ed7953"
            ],
            [
             0.7777777777777778,
             "#fb9f3a"
            ],
            [
             0.8888888888888888,
             "#fdca26"
            ],
            [
             1,
             "#f0f921"
            ]
           ]
          },
          "colorway": [
           "#636efa",
           "#EF553B",
           "#00cc96",
           "#ab63fa",
           "#FFA15A",
           "#19d3f3",
           "#FF6692",
           "#B6E880",
           "#FF97FF",
           "#FECB52"
          ],
          "font": {
           "color": "#2a3f5f"
          },
          "geo": {
           "bgcolor": "white",
           "lakecolor": "white",
           "landcolor": "#E5ECF6",
           "showlakes": true,
           "showland": true,
           "subunitcolor": "white"
          },
          "hoverlabel": {
           "align": "left"
          },
          "hovermode": "closest",
          "mapbox": {
           "style": "light"
          },
          "paper_bgcolor": "white",
          "plot_bgcolor": "#E5ECF6",
          "polar": {
           "angularaxis": {
            "gridcolor": "white",
            "linecolor": "white",
            "ticks": ""
           },
           "bgcolor": "#E5ECF6",
           "radialaxis": {
            "gridcolor": "white",
            "linecolor": "white",
            "ticks": ""
           }
          },
          "scene": {
           "xaxis": {
            "backgroundcolor": "#E5ECF6",
            "gridcolor": "white",
            "gridwidth": 2,
            "linecolor": "white",
            "showbackground": true,
            "ticks": "",
            "zerolinecolor": "white"
           },
           "yaxis": {
            "backgroundcolor": "#E5ECF6",
            "gridcolor": "white",
            "gridwidth": 2,
            "linecolor": "white",
            "showbackground": true,
            "ticks": "",
            "zerolinecolor": "white"
           },
           "zaxis": {
            "backgroundcolor": "#E5ECF6",
            "gridcolor": "white",
            "gridwidth": 2,
            "linecolor": "white",
            "showbackground": true,
            "ticks": "",
            "zerolinecolor": "white"
           }
          },
          "shapedefaults": {
           "line": {
            "color": "#2a3f5f"
           }
          },
          "ternary": {
           "aaxis": {
            "gridcolor": "white",
            "linecolor": "white",
            "ticks": ""
           },
           "baxis": {
            "gridcolor": "white",
            "linecolor": "white",
            "ticks": ""
           },
           "bgcolor": "#E5ECF6",
           "caxis": {
            "gridcolor": "white",
            "linecolor": "white",
            "ticks": ""
           }
          },
          "title": {
           "x": 0.05
          },
          "xaxis": {
           "automargin": true,
           "gridcolor": "white",
           "linecolor": "white",
           "ticks": "",
           "title": {
            "standoff": 15
           },
           "zerolinecolor": "white",
           "zerolinewidth": 2
          },
          "yaxis": {
           "automargin": true,
           "gridcolor": "white",
           "linecolor": "white",
           "ticks": "",
           "title": {
            "standoff": 15
           },
           "zerolinecolor": "white",
           "zerolinewidth": 2
          }
         }
        },
        "title": {
         "text": "Títulos adicionados na Netflix"
        },
        "xaxis": {
         "tickmode": "array",
         "tickvals": [
          2008,
          2009,
          2010,
          2011,
          2012,
          2013,
          2014,
          2015,
          2016,
          2017,
          2018,
          2019,
          2020,
          2021
         ],
         "title": {
          "text": "Ano"
         }
        },
        "yaxis": {
         "range": [
          0,
          1566.4
         ],
         "tickfont": {
          "color": "black"
         },
         "title": {
          "font": {
           "color": "black"
          },
          "text": "Quantidade"
         }
        },
        "yaxis2": {
         "overlaying": "y",
         "side": "right",
         "tickfont": {
          "color": "black"
         },
         "title": {
          "font": {
           "color": "black"
          },
          "text": "Médias"
         }
        }
       }
      }
     },
     "metadata": {},
     "output_type": "display_data"
    }
   ],
   "source": [
    "# Define a lista de anos para o eixo X, garantindo que esteja ordenada.\n",
    "anos = sorted(df['year_added'].unique())\n",
    "\n",
    "# Criação de variáveis que recebem os campos do atributo type.\n",
    "movies_df = df[df['type'] == 'Movie']\n",
    "tv_shows_df = df[df['type'] == 'TV Show']\n",
    "\n",
    "# Realiza a contagem da quantidade de filmes e a média de duração e release_year de acordo com o ano.\n",
    "movies_grouped = movies_df.groupby('year_added').agg(\n",
    "    counts=('title', 'count'),\n",
    "    avg_duration=('duration_num', 'mean'),\n",
    "    avg_release_year=('release_year', 'mean')  # Média de release_year\n",
    ").reset_index()\n",
    "\n",
    "# Realiza a contagem da quantidade de Tv Shows e a média de temporadas e release_year de acordo com o ano.\n",
    "tv_shows_grouped = tv_shows_df.groupby('year_added').agg(\n",
    "    counts=('title', 'count'),\n",
    "    avg_seasons=('duration_num', 'mean'),\n",
    "    avg_release_year=('release_year', 'mean') \n",
    ").reset_index()\n",
    "\n",
    "# Normaliza os valores médios para o intervalo entre 0 e 1.\n",
    "movies_grouped['normalized_avg_duration'] = (\n",
    "    movies_grouped['avg_duration'] - movies_grouped['avg_duration'].min()\n",
    ") / (movies_grouped['avg_duration'].max() - movies_grouped['avg_duration'].min())\n",
    "\n",
    "tv_shows_grouped['normalized_avg_seasons'] = (\n",
    "    tv_shows_grouped['avg_seasons'] - tv_shows_grouped['avg_seasons'].min()\n",
    ") / (tv_shows_grouped['avg_seasons'].max() - tv_shows_grouped['avg_seasons'].min())\n",
    "\n",
    "# Define uma largura fixa para as barras dos gráficos.\n",
    "fixed_bar_width = 0.4\n",
    "\n",
    "# Cria a figura (combinação do Layout e a definição dos dados).\n",
    "fig = go.Figure()\n",
    "\n",
    "\n",
    "\n",
    "# Adiciona a linha para representar quantidade de filmes.\n",
    "fig.add_trace(\n",
    "    go.Scatter(\n",
    "        x=movies_grouped['year_added'],\n",
    "        y=movies_grouped['counts'],\n",
    "        mode='lines+markers',\n",
    "        name='Total de filmes',\n",
    "        line=dict(color='blue'),\n",
    "        yaxis='y1',\n",
    "        # Combina 'counts' e 'avg_release_year' em um único array para customdata.\n",
    "        customdata=np.stack((movies_grouped['counts'], movies_grouped['avg_release_year']), axis=-1),\n",
    "        hovertemplate=(\n",
    "            '<b>Ano:</b> %{x}<br>' +\n",
    "            '<b>Total de filmes:</b> %{y}<br>' +\n",
    "            '<b>Média de ano de lançamento:</b> %{customdata[1]:.0f}<br>' +\n",
    "            '<extra></extra>'\n",
    "        )\n",
    "    )\n",
    ")\n",
    "# Adiciona a linha para representar a quantidade de séries.\n",
    "fig.add_trace(\n",
    "    go.Scatter(\n",
    "        x=tv_shows_grouped['year_added'],\n",
    "        y=tv_shows_grouped['counts'],\n",
    "        mode='lines+markers',\n",
    "        name='Total de séries',\n",
    "        line=dict(color='red'),\n",
    "        yaxis='y1',\n",
    "        # Combina 'counts' e 'avg_release_year' em um único array para customdata.\n",
    "        customdata=np.stack((tv_shows_grouped['counts'], tv_shows_grouped['avg_release_year']), axis=-1),\n",
    "        hovertemplate=(\n",
    "            '<b>Ano:</b> %{x}<br>' +\n",
    "            '<b>Total de séries:</b> %{y}<br>' +\n",
    "            '<b>Média de ano de lançamento:</b> %{customdata[1]:.0f}<br>' +\n",
    "            '<extra></extra>'\n",
    "        )\n",
    "    )\n",
    ")\n",
    "# Adiciona a linha para a duração média dos filmes.\n",
    "fig.add_trace(\n",
    "    go.Scatter(\n",
    "        x=movies_grouped['year_added'],\n",
    "        y=movies_grouped['avg_duration'],\n",
    "        mode='lines+markers',\n",
    "        name='Duração Média Filmes (min)',\n",
    "        line=dict(color='darkblue', dash='dash'),\n",
    "        yaxis='y2',\n",
    "        # Combina 'avg_duration' e 'avg_release_year' em um único array para customdata.\n",
    "        customdata=np.stack((movies_grouped['avg_duration'], movies_grouped['avg_release_year']), axis=-1),\n",
    "        hovertemplate=(\n",
    "            '<b>Ano:</b> %{x}<br>' +\n",
    "            '<b>Duração Média Filmes (min):</b> %{y:.2f}<br>' +\n",
    "            '<b>Média de ano de lançamento:</b> %{customdata[1]:.0f}<br>' +\n",
    "            '<extra></extra>'\n",
    "        )\n",
    "    )\n",
    ")\n",
    "# Adiciona a linha para média de temporadas das séries.\n",
    "fig.add_trace(\n",
    "    go.Scatter(\n",
    "        x=tv_shows_grouped['year_added'],\n",
    "        y=tv_shows_grouped['avg_seasons'],\n",
    "        mode='lines+markers',\n",
    "        name='Média de Temporadas Séries',\n",
    "        line=dict(color='darkred', dash='dash'),\n",
    "        yaxis='y2',\n",
    "        # Combina 'avg_seasons' e 'avg_release_year' em um único array para customdata.\n",
    "        customdata=np.stack((tv_shows_grouped['avg_seasons'], tv_shows_grouped['avg_release_year']), axis=-1),\n",
    "        hovertemplate=(\n",
    "            '<b>Ano:</b> %{x}<br>' +\n",
    "            '<b>Média de Temporadas Séries:</b> %{y:.2f}<br>' +\n",
    "            '<b>Média de ano de lançamento:</b> %{customdata[1]:.0f}<br>' +\n",
    "            '<extra></extra>'\n",
    "        )\n",
    "    )\n",
    ")\n",
    "# Atualiza o layout.\n",
    "fig.update_layout(\n",
    "    title='Títulos adicionados na Netflix',\n",
    "    xaxis_title='Ano',\n",
    "    xaxis=dict(\n",
    "        title='Ano',\n",
    "        tickmode='array',\n",
    "        tickvals=anos\n",
    "    ),\n",
    "    yaxis=dict(\n",
    "        title='Quantidade',\n",
    "        range=[0, y_axis_max],\n",
    "        titlefont=dict(color='black'),\n",
    "        tickfont=dict(color='black')\n",
    "    ),\n",
    "    yaxis2=dict(\n",
    "        title='Médias',\n",
    "        overlaying='y',\n",
    "        side='right',\n",
    "        titlefont=dict(color='black'),\n",
    "        tickfont=dict(color='black')\n",
    "    ),\n",
    "    legend_title='Legenda',\n",
    "    margin=dict(t=80, r=150) \n",
    ")\n",
    "# Exibe o gráfico.\n",
    "fig.show()"
   ]
  },
  {
   "cell_type": "markdown",
   "metadata": {
    "collapsed": false
   },
   "source": [
    "## Visualization model #3"
   ]
  },
  {
   "cell_type": "code",
   "execution_count": 12,
   "metadata": {
    "collapsed": false,
    "pycharm": {
     "name": "#%%\n"
    }
   },
   "outputs": [
    {
     "data": {
      "application/vnd.plotly.v1+json": {
       "config": {
        "plotlyServerURL": "https://plot.ly"
       },
       "data": [
        {
         "customdata": [
          [
           81,
           2006
          ],
          [
           66.5,
           2008
          ],
          [
           84,
           1987
          ],
          [
           93.46153846153847,
           1991.076923076923
          ],
          [
           62,
           2011
          ],
          [
           83.5,
           2012.6666666666667
          ],
          [
           77,
           2012.4736842105262
          ],
          [
           83.57142857142857,
           2014.5892857142858
          ],
          [
           83.61354581673307,
           2014.00790513834
          ],
          [
           95.68019093078759,
           2012.8438617401669
          ],
          [
           101.7396928051738,
           2013.2109943411479
          ],
          [
           99.92345505617978,
           2012.3441011235955
          ],
          [
           101.58566978193146,
           2013.9727414330218
          ],
          [
           102.83987915407855,
           2013.3041289023163
          ]
         ],
         "hovertemplate": "<b>Ano:</b> %{x}<br><b>Total de filmes:</b> %{y}<br><b>Duração Média (min):</b> %{customdata[0]:.2f}<br><b>Média de ano de lançamento:</b> %{customdata[1]:.0f}<br><extra></extra>",
         "marker": {
          "color": "blue",
          "line": {
           "color": "blue",
           "width": 2
          },
          "opacity": 0.7,
          "size": [
           66.52315431276817,
           31.018641810918776,
           73.86891552004735,
           97.0363162506971,
           20,
           72.64462198550082,
           56.72880603639592,
           72.8195210618646,
           72.922648804103,
           102.46887999771188,
           117.30609793247915,
           112.85888166589368,
           116.92895914942531,
           120
          ],
          "sizemode": "diameter"
         },
         "mode": "markers",
         "name": "Filmes",
         "type": "scatter",
         "x": [
          2008,
          2009,
          2010,
          2011,
          2012,
          2013,
          2014,
          2015,
          2016,
          2017,
          2018,
          2019,
          2020,
          2021
         ],
         "y": [
          1,
          2,
          1,
          13,
          3,
          6,
          19,
          56,
          253,
          839,
          1237,
          1424,
          1284,
          993
         ]
        },
        {
         "customdata": [
          [
           1,
           2007
          ],
          [
           3.4,
           2012.2
          ],
          [
           4.8,
           2005.4
          ],
          [
           2.6538461538461537,
           2011.6538461538462
          ],
          [
           1.4829545454545454,
           2011.6931818181818
          ],
          [
           1.679083094555874,
           2013.593123209169
          ],
          [
           1.6771844660194175,
           2015.878640776699
          ],
          [
           1.5692567567567568,
           2017.0557432432433
          ],
          [
           1.853781512605042,
           2018.2386554621849
          ],
          [
           1.9564356435643564,
           2019.0752475247525
          ]
         ],
         "hovertemplate": "<b>Ano:</b> %{x}<br><b>Total de séries:</b> %{y}<br><b>Média de Temporadas:</b> %{customdata[0]:.2f}<br><b>Média de ano de lançamento:</b> %{customdata[1]:.0f}<br><extra></extra>",
         "marker": {
          "color": "red",
          "line": {
           "color": "red",
           "width": 2
          },
          "opacity": 0.7,
          "size": [
           20,
           83.15789473684211,
           120,
           63.522267206477736,
           32.70933014354067,
           37.87060775147037,
           37.82064384261625,
           34.98044096728307,
           42.46793454223795,
           45.169359041167276
          ],
          "sizemode": "diameter"
         },
         "mode": "markers",
         "name": "Séries",
         "type": "scatter",
         "x": [
          2008,
          2013,
          2014,
          2015,
          2016,
          2017,
          2018,
          2019,
          2020,
          2021
         ],
         "y": [
          1,
          5,
          5,
          26,
          176,
          349,
          412,
          592,
          595,
          505
         ]
        }
       ],
       "layout": {
        "hovermode": "closest",
        "legend": {
         "bgcolor": "rgba(0,0,0,0)",
         "bordercolor": "rgba(0,0,0,0)",
         "title": {
          "text": "Tipo"
         },
         "x": 1.02,
         "xanchor": "left",
         "y": 1,
         "yanchor": "top"
        },
        "margin": {
         "r": 200,
         "t": 80
        },
        "template": {
         "data": {
          "bar": [
           {
            "error_x": {
             "color": "#2a3f5f"
            },
            "error_y": {
             "color": "#2a3f5f"
            },
            "marker": {
             "line": {
              "color": "#E5ECF6",
              "width": 0.5
             },
             "pattern": {
              "fillmode": "overlay",
              "size": 10,
              "solidity": 0.2
             }
            },
            "type": "bar"
           }
          ],
          "barpolar": [
           {
            "marker": {
             "line": {
              "color": "#E5ECF6",
              "width": 0.5
             },
             "pattern": {
              "fillmode": "overlay",
              "size": 10,
              "solidity": 0.2
             }
            },
            "type": "barpolar"
           }
          ],
          "carpet": [
           {
            "aaxis": {
             "endlinecolor": "#2a3f5f",
             "gridcolor": "white",
             "linecolor": "white",
             "minorgridcolor": "white",
             "startlinecolor": "#2a3f5f"
            },
            "baxis": {
             "endlinecolor": "#2a3f5f",
             "gridcolor": "white",
             "linecolor": "white",
             "minorgridcolor": "white",
             "startlinecolor": "#2a3f5f"
            },
            "type": "carpet"
           }
          ],
          "choropleth": [
           {
            "colorbar": {
             "outlinewidth": 0,
             "ticks": ""
            },
            "type": "choropleth"
           }
          ],
          "contour": [
           {
            "colorbar": {
             "outlinewidth": 0,
             "ticks": ""
            },
            "colorscale": [
             [
              0,
              "#0d0887"
             ],
             [
              0.1111111111111111,
              "#46039f"
             ],
             [
              0.2222222222222222,
              "#7201a8"
             ],
             [
              0.3333333333333333,
              "#9c179e"
             ],
             [
              0.4444444444444444,
              "#bd3786"
             ],
             [
              0.5555555555555556,
              "#d8576b"
             ],
             [
              0.6666666666666666,
              "#ed7953"
             ],
             [
              0.7777777777777778,
              "#fb9f3a"
             ],
             [
              0.8888888888888888,
              "#fdca26"
             ],
             [
              1,
              "#f0f921"
             ]
            ],
            "type": "contour"
           }
          ],
          "contourcarpet": [
           {
            "colorbar": {
             "outlinewidth": 0,
             "ticks": ""
            },
            "type": "contourcarpet"
           }
          ],
          "heatmap": [
           {
            "colorbar": {
             "outlinewidth": 0,
             "ticks": ""
            },
            "colorscale": [
             [
              0,
              "#0d0887"
             ],
             [
              0.1111111111111111,
              "#46039f"
             ],
             [
              0.2222222222222222,
              "#7201a8"
             ],
             [
              0.3333333333333333,
              "#9c179e"
             ],
             [
              0.4444444444444444,
              "#bd3786"
             ],
             [
              0.5555555555555556,
              "#d8576b"
             ],
             [
              0.6666666666666666,
              "#ed7953"
             ],
             [
              0.7777777777777778,
              "#fb9f3a"
             ],
             [
              0.8888888888888888,
              "#fdca26"
             ],
             [
              1,
              "#f0f921"
             ]
            ],
            "type": "heatmap"
           }
          ],
          "heatmapgl": [
           {
            "colorbar": {
             "outlinewidth": 0,
             "ticks": ""
            },
            "colorscale": [
             [
              0,
              "#0d0887"
             ],
             [
              0.1111111111111111,
              "#46039f"
             ],
             [
              0.2222222222222222,
              "#7201a8"
             ],
             [
              0.3333333333333333,
              "#9c179e"
             ],
             [
              0.4444444444444444,
              "#bd3786"
             ],
             [
              0.5555555555555556,
              "#d8576b"
             ],
             [
              0.6666666666666666,
              "#ed7953"
             ],
             [
              0.7777777777777778,
              "#fb9f3a"
             ],
             [
              0.8888888888888888,
              "#fdca26"
             ],
             [
              1,
              "#f0f921"
             ]
            ],
            "type": "heatmapgl"
           }
          ],
          "histogram": [
           {
            "marker": {
             "pattern": {
              "fillmode": "overlay",
              "size": 10,
              "solidity": 0.2
             }
            },
            "type": "histogram"
           }
          ],
          "histogram2d": [
           {
            "colorbar": {
             "outlinewidth": 0,
             "ticks": ""
            },
            "colorscale": [
             [
              0,
              "#0d0887"
             ],
             [
              0.1111111111111111,
              "#46039f"
             ],
             [
              0.2222222222222222,
              "#7201a8"
             ],
             [
              0.3333333333333333,
              "#9c179e"
             ],
             [
              0.4444444444444444,
              "#bd3786"
             ],
             [
              0.5555555555555556,
              "#d8576b"
             ],
             [
              0.6666666666666666,
              "#ed7953"
             ],
             [
              0.7777777777777778,
              "#fb9f3a"
             ],
             [
              0.8888888888888888,
              "#fdca26"
             ],
             [
              1,
              "#f0f921"
             ]
            ],
            "type": "histogram2d"
           }
          ],
          "histogram2dcontour": [
           {
            "colorbar": {
             "outlinewidth": 0,
             "ticks": ""
            },
            "colorscale": [
             [
              0,
              "#0d0887"
             ],
             [
              0.1111111111111111,
              "#46039f"
             ],
             [
              0.2222222222222222,
              "#7201a8"
             ],
             [
              0.3333333333333333,
              "#9c179e"
             ],
             [
              0.4444444444444444,
              "#bd3786"
             ],
             [
              0.5555555555555556,
              "#d8576b"
             ],
             [
              0.6666666666666666,
              "#ed7953"
             ],
             [
              0.7777777777777778,
              "#fb9f3a"
             ],
             [
              0.8888888888888888,
              "#fdca26"
             ],
             [
              1,
              "#f0f921"
             ]
            ],
            "type": "histogram2dcontour"
           }
          ],
          "mesh3d": [
           {
            "colorbar": {
             "outlinewidth": 0,
             "ticks": ""
            },
            "type": "mesh3d"
           }
          ],
          "parcoords": [
           {
            "line": {
             "colorbar": {
              "outlinewidth": 0,
              "ticks": ""
             }
            },
            "type": "parcoords"
           }
          ],
          "pie": [
           {
            "automargin": true,
            "type": "pie"
           }
          ],
          "scatter": [
           {
            "fillpattern": {
             "fillmode": "overlay",
             "size": 10,
             "solidity": 0.2
            },
            "type": "scatter"
           }
          ],
          "scatter3d": [
           {
            "line": {
             "colorbar": {
              "outlinewidth": 0,
              "ticks": ""
             }
            },
            "marker": {
             "colorbar": {
              "outlinewidth": 0,
              "ticks": ""
             }
            },
            "type": "scatter3d"
           }
          ],
          "scattercarpet": [
           {
            "marker": {
             "colorbar": {
              "outlinewidth": 0,
              "ticks": ""
             }
            },
            "type": "scattercarpet"
           }
          ],
          "scattergeo": [
           {
            "marker": {
             "colorbar": {
              "outlinewidth": 0,
              "ticks": ""
             }
            },
            "type": "scattergeo"
           }
          ],
          "scattergl": [
           {
            "marker": {
             "colorbar": {
              "outlinewidth": 0,
              "ticks": ""
             }
            },
            "type": "scattergl"
           }
          ],
          "scattermapbox": [
           {
            "marker": {
             "colorbar": {
              "outlinewidth": 0,
              "ticks": ""
             }
            },
            "type": "scattermapbox"
           }
          ],
          "scatterpolar": [
           {
            "marker": {
             "colorbar": {
              "outlinewidth": 0,
              "ticks": ""
             }
            },
            "type": "scatterpolar"
           }
          ],
          "scatterpolargl": [
           {
            "marker": {
             "colorbar": {
              "outlinewidth": 0,
              "ticks": ""
             }
            },
            "type": "scatterpolargl"
           }
          ],
          "scatterternary": [
           {
            "marker": {
             "colorbar": {
              "outlinewidth": 0,
              "ticks": ""
             }
            },
            "type": "scatterternary"
           }
          ],
          "surface": [
           {
            "colorbar": {
             "outlinewidth": 0,
             "ticks": ""
            },
            "colorscale": [
             [
              0,
              "#0d0887"
             ],
             [
              0.1111111111111111,
              "#46039f"
             ],
             [
              0.2222222222222222,
              "#7201a8"
             ],
             [
              0.3333333333333333,
              "#9c179e"
             ],
             [
              0.4444444444444444,
              "#bd3786"
             ],
             [
              0.5555555555555556,
              "#d8576b"
             ],
             [
              0.6666666666666666,
              "#ed7953"
             ],
             [
              0.7777777777777778,
              "#fb9f3a"
             ],
             [
              0.8888888888888888,
              "#fdca26"
             ],
             [
              1,
              "#f0f921"
             ]
            ],
            "type": "surface"
           }
          ],
          "table": [
           {
            "cells": {
             "fill": {
              "color": "#EBF0F8"
             },
             "line": {
              "color": "white"
             }
            },
            "header": {
             "fill": {
              "color": "#C8D4E3"
             },
             "line": {
              "color": "white"
             }
            },
            "type": "table"
           }
          ]
         },
         "layout": {
          "annotationdefaults": {
           "arrowcolor": "#2a3f5f",
           "arrowhead": 0,
           "arrowwidth": 1
          },
          "autotypenumbers": "strict",
          "coloraxis": {
           "colorbar": {
            "outlinewidth": 0,
            "ticks": ""
           }
          },
          "colorscale": {
           "diverging": [
            [
             0,
             "#8e0152"
            ],
            [
             0.1,
             "#c51b7d"
            ],
            [
             0.2,
             "#de77ae"
            ],
            [
             0.3,
             "#f1b6da"
            ],
            [
             0.4,
             "#fde0ef"
            ],
            [
             0.5,
             "#f7f7f7"
            ],
            [
             0.6,
             "#e6f5d0"
            ],
            [
             0.7,
             "#b8e186"
            ],
            [
             0.8,
             "#7fbc41"
            ],
            [
             0.9,
             "#4d9221"
            ],
            [
             1,
             "#276419"
            ]
           ],
           "sequential": [
            [
             0,
             "#0d0887"
            ],
            [
             0.1111111111111111,
             "#46039f"
            ],
            [
             0.2222222222222222,
             "#7201a8"
            ],
            [
             0.3333333333333333,
             "#9c179e"
            ],
            [
             0.4444444444444444,
             "#bd3786"
            ],
            [
             0.5555555555555556,
             "#d8576b"
            ],
            [
             0.6666666666666666,
             "#ed7953"
            ],
            [
             0.7777777777777778,
             "#fb9f3a"
            ],
            [
             0.8888888888888888,
             "#fdca26"
            ],
            [
             1,
             "#f0f921"
            ]
           ],
           "sequentialminus": [
            [
             0,
             "#0d0887"
            ],
            [
             0.1111111111111111,
             "#46039f"
            ],
            [
             0.2222222222222222,
             "#7201a8"
            ],
            [
             0.3333333333333333,
             "#9c179e"
            ],
            [
             0.4444444444444444,
             "#bd3786"
            ],
            [
             0.5555555555555556,
             "#d8576b"
            ],
            [
             0.6666666666666666,
             "#ed7953"
            ],
            [
             0.7777777777777778,
             "#fb9f3a"
            ],
            [
             0.8888888888888888,
             "#fdca26"
            ],
            [
             1,
             "#f0f921"
            ]
           ]
          },
          "colorway": [
           "#636efa",
           "#EF553B",
           "#00cc96",
           "#ab63fa",
           "#FFA15A",
           "#19d3f3",
           "#FF6692",
           "#B6E880",
           "#FF97FF",
           "#FECB52"
          ],
          "font": {
           "color": "#2a3f5f"
          },
          "geo": {
           "bgcolor": "white",
           "lakecolor": "white",
           "landcolor": "#E5ECF6",
           "showlakes": true,
           "showland": true,
           "subunitcolor": "white"
          },
          "hoverlabel": {
           "align": "left"
          },
          "hovermode": "closest",
          "mapbox": {
           "style": "light"
          },
          "paper_bgcolor": "white",
          "plot_bgcolor": "#E5ECF6",
          "polar": {
           "angularaxis": {
            "gridcolor": "white",
            "linecolor": "white",
            "ticks": ""
           },
           "bgcolor": "#E5ECF6",
           "radialaxis": {
            "gridcolor": "white",
            "linecolor": "white",
            "ticks": ""
           }
          },
          "scene": {
           "xaxis": {
            "backgroundcolor": "#E5ECF6",
            "gridcolor": "white",
            "gridwidth": 2,
            "linecolor": "white",
            "showbackground": true,
            "ticks": "",
            "zerolinecolor": "white"
           },
           "yaxis": {
            "backgroundcolor": "#E5ECF6",
            "gridcolor": "white",
            "gridwidth": 2,
            "linecolor": "white",
            "showbackground": true,
            "ticks": "",
            "zerolinecolor": "white"
           },
           "zaxis": {
            "backgroundcolor": "#E5ECF6",
            "gridcolor": "white",
            "gridwidth": 2,
            "linecolor": "white",
            "showbackground": true,
            "ticks": "",
            "zerolinecolor": "white"
           }
          },
          "shapedefaults": {
           "line": {
            "color": "#2a3f5f"
           }
          },
          "ternary": {
           "aaxis": {
            "gridcolor": "white",
            "linecolor": "white",
            "ticks": ""
           },
           "baxis": {
            "gridcolor": "white",
            "linecolor": "white",
            "ticks": ""
           },
           "bgcolor": "#E5ECF6",
           "caxis": {
            "gridcolor": "white",
            "linecolor": "white",
            "ticks": ""
           }
          },
          "title": {
           "x": 0.05
          },
          "xaxis": {
           "automargin": true,
           "gridcolor": "white",
           "linecolor": "white",
           "ticks": "",
           "title": {
            "standoff": 15
           },
           "zerolinecolor": "white",
           "zerolinewidth": 2
          },
          "yaxis": {
           "automargin": true,
           "gridcolor": "white",
           "linecolor": "white",
           "ticks": "",
           "title": {
            "standoff": 15
           },
           "zerolinecolor": "white",
           "zerolinewidth": 2
          }
         }
        },
        "title": {
         "text": "Títulos adicionados na Netflix"
        },
        "xaxis": {
         "tickmode": "array",
         "tickvals": [
          2008,
          2009,
          2010,
          2011,
          2012,
          2013,
          2014,
          2015,
          2016,
          2017,
          2018,
          2019,
          2020,
          2021
         ],
         "title": {
          "text": "Ano"
         }
        },
        "yaxis": {
         "range": [
          0,
          1566.4
         ],
         "tickfont": {
          "color": "black"
         },
         "title": {
          "font": {
           "color": "black"
          },
          "text": "Quantidade"
         }
        }
       }
      }
     },
     "metadata": {},
     "output_type": "display_data"
    }
   ],
   "source": [
    "# Agrupa por 'year_added' e calcula a quantidade, a média de temporadas e a média de release_year para séries.\n",
    "tv_shows_grouped = tv_shows_df.groupby('year_added').agg(\n",
    "    counts=('title', 'count'),\n",
    "    avg_seasons=('duration_num', 'mean'),\n",
    "    avg_release_year=('release_year', 'mean')  # Média de release_year\n",
    ").reset_index()\n",
    "\n",
    "# Normaliza os valores médios para o tamanho das bolhas.\n",
    "movies_grouped['marker_size'] = (\n",
    "    (movies_grouped['avg_duration'] - movies_grouped['avg_duration'].min()) / \n",
    "    (movies_grouped['avg_duration'].max() - movies_grouped['avg_duration'].min())\n",
    ") * 100 + 20\n",
    "\n",
    "tv_shows_grouped['marker_size'] = (\n",
    "    (tv_shows_grouped['avg_seasons'] - tv_shows_grouped['avg_seasons'].min()) / \n",
    "    (tv_shows_grouped['avg_seasons'].max() - tv_shows_grouped['avg_seasons'].min())\n",
    ") * 100 + 20\n",
    "\n",
    "# Calcula o valor máximo de 'counts' entre filmes e séries.\n",
    "max_count = max(movies_grouped['counts'].max(), tv_shows_grouped['counts'].max())\n",
    "\n",
    "# Define o limite superior do eixo Y com uma margem de 10%.\n",
    "y_axis_max = max_count * 1.1\n",
    "\n",
    "# Cria a figura.\n",
    "fig = go.Figure()\n",
    "\n",
    "# Adiciona as bolhas para filmes.\n",
    "fig.add_trace(\n",
    "    go.Scatter(\n",
    "        x=movies_grouped['year_added'],\n",
    "        y=movies_grouped['counts'],\n",
    "        mode='markers',\n",
    "        name='Filmes',\n",
    "        marker=dict(\n",
    "            size=movies_grouped['marker_size'],\n",
    "            color='blue',\n",
    "            sizemode='diameter',\n",
    "            opacity=0.7,\n",
    "            line=dict(width=2, color='blue')\n",
    "        ),\n",
    "        # Combina 'avg_duration' e 'avg_release_year' em um único array para customdata\n",
    "        customdata=np.stack((movies_grouped['avg_duration'], movies_grouped['avg_release_year']), axis=-1),\n",
    "        hovertemplate=(\n",
    "            '<b>Ano:</b> %{x}<br>' +\n",
    "            '<b>Total de filmes:</b> %{y}<br>' +\n",
    "            '<b>Duração Média (min):</b> %{customdata[0]:.2f}<br>' +\n",
    "            '<b>Média de ano de lançamento:</b> %{customdata[1]:.0f}<br>' +\n",
    "            '<extra></extra>'\n",
    "        )\n",
    "    )\n",
    ")\n",
    "# Adiciona as bolhas para séries.\n",
    "fig.add_trace(\n",
    "    go.Scatter(\n",
    "        x=tv_shows_grouped['year_added'],\n",
    "        y=tv_shows_grouped['counts'],\n",
    "        mode='markers',\n",
    "        name='Séries',\n",
    "        marker=dict(\n",
    "            size=tv_shows_grouped['marker_size'],\n",
    "            color='red',\n",
    "            sizemode='diameter',\n",
    "            opacity=0.7,\n",
    "            line=dict(width=2, color='red')\n",
    "        ),\n",
    "        # Combina 'avg_seasons' e 'avg_release_year' em um único array para customdata.\n",
    "        customdata=np.stack((tv_shows_grouped['avg_seasons'], tv_shows_grouped['avg_release_year']), axis=-1),\n",
    "        hovertemplate=(\n",
    "            '<b>Ano:</b> %{x}<br>' +\n",
    "            '<b>Total de séries:</b> %{y}<br>' +\n",
    "            '<b>Média de Temporadas:</b> %{customdata[0]:.2f}<br>' +\n",
    "            '<b>Média de ano de lançamento:</b> %{customdata[1]:.0f}<br>' +\n",
    "            '<extra></extra>'\n",
    "        )\n",
    "    )\n",
    ")\n",
    "# Ajusta o layout do gráfico.\n",
    "fig.update_layout(\n",
    "    title='Títulos adicionados na Netflix',\n",
    "    xaxis_title='Ano',\n",
    "    yaxis_title='Quantidade',\n",
    "    legend_title='Tipo',\n",
    "    yaxis=dict(\n",
    "        range=[0, y_axis_max],\n",
    "        titlefont=dict(color='black'),\n",
    "        tickfont=dict(color='black')\n",
    "    ),\n",
    "    xaxis=dict(\n",
    "        title='Ano',\n",
    "        tickmode='array',\n",
    "        tickvals=anos\n",
    "    ),\n",
    "    legend=dict(\n",
    "        title='Tipo',\n",
    "        x=1.02,\n",
    "        y=1,\n",
    "        xanchor='left',\n",
    "        yanchor='top',\n",
    "        bgcolor='rgba(0,0,0,0)',\n",
    "        bordercolor='rgba(0,0,0,0)'\n",
    "    ),\n",
    "    margin=dict(t=80, r=200),\n",
    "    hovermode='closest'  \n",
    ")\n",
    "# Exibe o gráfico.\n",
    "fig.show()"
   ]
  },
  {
   "cell_type": "markdown",
   "metadata": {
    "collapsed": false
   },
   "source": [
    "## Visualization model #4"
   ]
  },
  {
   "cell_type": "code",
   "execution_count": 14,
   "metadata": {
    "collapsed": false,
    "pycharm": {
     "name": "#%%\n"
    }
   },
   "outputs": [
    {
     "data": {
      "application/vnd.plotly.v1+json": {
       "config": {
        "plotlyServerURL": "https://plot.ly"
       },
       "data": [
        {
         "colorscale": [
          [
           0,
           "rgb(247,251,255)"
          ],
          [
           0.125,
           "rgb(222,235,247)"
          ],
          [
           0.25,
           "rgb(198,219,239)"
          ],
          [
           0.375,
           "rgb(158,202,225)"
          ],
          [
           0.5,
           "rgb(107,174,214)"
          ],
          [
           0.625,
           "rgb(66,146,198)"
          ],
          [
           0.75,
           "rgb(33,113,181)"
          ],
          [
           0.875,
           "rgb(8,81,156)"
          ],
          [
           1,
           "rgb(8,48,107)"
          ]
         ],
         "hovertemplate": "Ano: %{y}<br>Mês: %{x}<br>Filmes: %{z}<extra></extra>",
         "showscale": false,
         "type": "heatmap",
         "x": [
          "January",
          "February",
          "March",
          "April",
          "May",
          "June",
          "July",
          "August",
          "September",
          "October",
          "November",
          "December"
         ],
         "xaxis": "x",
         "y": [
          2008,
          2009,
          2010,
          2011,
          2012,
          2013,
          2014,
          2015,
          2016,
          2017,
          2018,
          2019,
          2020,
          2021
         ],
         "yaxis": "y",
         "z": [
          [
           1,
           0,
           0,
           0,
           0,
           0,
           0,
           0,
           0,
           0,
           0,
           0
          ],
          [
           0,
           0,
           0,
           0,
           1,
           0,
           0,
           0,
           0,
           0,
           1,
           0
          ],
          [
           0,
           0,
           0,
           0,
           0,
           0,
           0,
           0,
           0,
           0,
           1,
           0
          ],
          [
           0,
           0,
           0,
           0,
           1,
           0,
           0,
           0,
           1,
           11,
           0,
           0
          ],
          [
           0,
           1,
           0,
           0,
           0,
           0,
           0,
           0,
           0,
           0,
           1,
           1
          ],
          [
           0,
           0,
           0,
           0,
           0,
           0,
           0,
           0,
           1,
           1,
           2,
           2
          ],
          [
           2,
           1,
           0,
           1,
           0,
           1,
           1,
           1,
           1,
           4,
           2,
           5
          ],
          [
           1,
           3,
           3,
           1,
           5,
           4,
           5,
           2,
           6,
           10,
           2,
           14
          ],
          [
           15,
           9,
           14,
           14,
           9,
           11,
           19,
           23,
           29,
           32,
           26,
           52
          ],
          [
           58,
           65,
           87,
           66,
           63,
           65,
           45,
           77,
           81,
           97,
           55,
           80
          ],
          [
           105,
           63,
           138,
           87,
           70,
           50,
           125,
           130,
           81,
           146,
           118,
           124
          ],
          [
           116,
           103,
           119,
           119,
           91,
           122,
           98,
           87,
           86,
           128,
           187,
           168
          ],
          [
           152,
           72,
           93,
           127,
           105,
           115,
           103,
           82,
           115,
           116,
           103,
           101
          ],
          [
           96,
           65,
           75,
           135,
           94,
           124,
           169,
           117,
           118,
           0,
           0,
           0
          ]
         ]
        },
        {
         "colorscale": [
          [
           0,
           "rgb(255,245,240)"
          ],
          [
           0.125,
           "rgb(254,224,210)"
          ],
          [
           0.25,
           "rgb(252,187,161)"
          ],
          [
           0.375,
           "rgb(252,146,114)"
          ],
          [
           0.5,
           "rgb(251,106,74)"
          ],
          [
           0.625,
           "rgb(239,59,44)"
          ],
          [
           0.75,
           "rgb(203,24,29)"
          ],
          [
           0.875,
           "rgb(165,15,21)"
          ],
          [
           1,
           "rgb(103,0,13)"
          ]
         ],
         "hovertemplate": "Ano: %{y}<br>Mês: %{x}<br>Séries: %{z}<extra></extra>",
         "showscale": false,
         "type": "heatmap",
         "x": [
          "January",
          "February",
          "March",
          "April",
          "May",
          "June",
          "July",
          "August",
          "September",
          "October",
          "November",
          "December"
         ],
         "xaxis": "x2",
         "y": [
          2008,
          2013,
          2014,
          2015,
          2016,
          2017,
          2018,
          2019,
          2020,
          2021
         ],
         "yaxis": "y2",
         "z": [
          [
           0,
           1,
           0,
           0,
           0,
           0,
           0,
           0,
           0,
           0,
           0,
           0
          ],
          [
           0,
           0,
           1,
           0,
           0,
           0,
           0,
           1,
           1,
           2,
           0,
           0
          ],
          [
           0,
           1,
           0,
           1,
           0,
           0,
           0,
           0,
           0,
           0,
           2,
           1
          ],
          [
           0,
           1,
           2,
           4,
           1,
           2,
           2,
           0,
           1,
           4,
           2,
           7
          ],
          [
           28,
           6,
           3,
           8,
           4,
           7,
           9,
           11,
           19,
           19,
           18,
           44
          ],
          [
           14,
           17,
           38,
           27,
           23,
           29,
           34,
           38,
           32,
           29,
           30,
           38
          ],
          [
           24,
           24,
           35,
           28,
           27,
           28,
           27,
           34,
           43,
           45,
           36,
           61
          ],
          [
           37,
           45,
           53,
           43,
           48,
           46,
           59,
           44,
           37,
           65,
           68,
           47
          ],
          [
           53,
           42,
           44,
           50,
           52,
           41,
           43,
           47,
           53,
           51,
           51,
           68
          ],
          [
           36,
           44,
           37,
           53,
           38,
           83,
           88,
           61,
           65,
           0,
           0,
           0
          ]
         ]
        },
        {
         "colorscale": [
          [
           0,
           "rgb(247,252,245)"
          ],
          [
           0.125,
           "rgb(229,245,224)"
          ],
          [
           0.25,
           "rgb(199,233,192)"
          ],
          [
           0.375,
           "rgb(161,217,155)"
          ],
          [
           0.5,
           "rgb(116,196,118)"
          ],
          [
           0.625,
           "rgb(65,171,93)"
          ],
          [
           0.75,
           "rgb(35,139,69)"
          ],
          [
           0.875,
           "rgb(0,109,44)"
          ],
          [
           1,
           "rgb(0,68,27)"
          ]
         ],
         "hovertemplate": "Ano: %{y}<br>Mês: %{x}<br>Tempo Médio (min): %{z:.2f}<extra></extra>",
         "showscale": false,
         "type": "heatmap",
         "x": [
          "January",
          "February",
          "March",
          "April",
          "May",
          "June",
          "July",
          "August",
          "September",
          "October",
          "November",
          "December"
         ],
         "xaxis": "x3",
         "y": [
          2008,
          2009,
          2010,
          2011,
          2012,
          2013,
          2014,
          2015,
          2016,
          2017,
          2018,
          2019,
          2020,
          2021
         ],
         "yaxis": "y3",
         "z": [
          [
           81,
           0,
           0,
           0,
           0,
           0,
           0,
           0,
           0,
           0,
           0,
           0
          ],
          [
           0,
           0,
           0,
           0,
           104,
           0,
           0,
           0,
           0,
           0,
           29,
           0
          ],
          [
           0,
           0,
           0,
           0,
           0,
           0,
           0,
           0,
           0,
           0,
           84,
           0
          ],
          [
           0,
           0,
           0,
           0,
           103,
           0,
           0,
           0,
           75,
           94.27272727272727,
           0,
           0
          ],
          [
           0,
           76,
           0,
           0,
           0,
           0,
           0,
           0,
           0,
           0,
           84,
           26
          ],
          [
           0,
           0,
           0,
           0,
           0,
           0,
           0,
           0,
           75,
           72,
           62,
           115
          ],
          [
           99,
           72,
           0,
           35,
           0,
           78,
           80,
           94,
           100,
           75,
           87.5,
           66.2
          ],
          [
           72,
           70.66666666666667,
           72.33333333333333,
           84,
           83.2,
           101.75,
           95.4,
           76,
           89.5,
           94.5,
           76.5,
           72
          ],
          [
           55.6,
           77.11111111111111,
           80.21428571428571,
           91.42857142857143,
           94.44444444444444,
           89,
           98.10526315789474,
           79,
           78.03571428571429,
           89.6875,
           85.65384615384616,
           83.51923076923077
          ],
          [
           90.41379310344827,
           94.83076923076923,
           90.11494252873563,
           92.04615384615384,
           100.2063492063492,
           94.63076923076923,
           101.84444444444445,
           95.36363636363636,
           95.39506172839506,
           98.41237113402062,
           101.58181818181818,
           96.2375
          ],
          [
           95.83809523809524,
           100.06349206349206,
           108.21014492753623,
           99.94252873563218,
           89.27142857142857,
           96.98,
           98.336,
           105.6,
           106.34567901234568,
           110.13698630136986,
           106.2542372881356,
           92.79838709677419
          ],
          [
           105.81896551724138,
           92.41747572815534,
           102.17647058823529,
           100.63025210084034,
           93.87912087912088,
           96.73770491803279,
           88.91836734693878,
           99.9080459770115,
           98.20930232558139,
           91.890625,
           100.44385026737967,
           116.79166666666667
          ],
          [
           104.23684210526316,
           101.55555555555556,
           94.83870967741936,
           108.88976377952756,
           107.77142857142857,
           103.64347826086957,
           106.11650485436893,
           93.67073170731707,
           103.25217391304348,
           97.75,
           98.8252427184466,
           93
          ],
          [
           103.90625,
           102.96923076923076,
           101.25333333333333,
           105.07407407407408,
           98.1063829787234,
           99.6774193548387,
           100.18343195266272,
           108.45299145299145,
           105.6864406779661,
           0,
           0,
           0
          ]
         ]
        },
        {
         "colorscale": [
          [
           0,
           "rgb(252,251,253)"
          ],
          [
           0.125,
           "rgb(239,237,245)"
          ],
          [
           0.25,
           "rgb(218,218,235)"
          ],
          [
           0.375,
           "rgb(188,189,220)"
          ],
          [
           0.5,
           "rgb(158,154,200)"
          ],
          [
           0.625,
           "rgb(128,125,186)"
          ],
          [
           0.75,
           "rgb(106,81,163)"
          ],
          [
           0.875,
           "rgb(84,39,143)"
          ],
          [
           1,
           "rgb(63,0,125)"
          ]
         ],
         "hovertemplate": "Ano: %{y}<br>Mês: %{x}<br>Média de Temporadas: %{z:.2f}<extra></extra>",
         "showscale": false,
         "type": "heatmap",
         "x": [
          "January",
          "February",
          "March",
          "April",
          "May",
          "June",
          "July",
          "August",
          "September",
          "October",
          "November",
          "December"
         ],
         "xaxis": "x4",
         "y": [
          2008,
          2013,
          2014,
          2015,
          2016,
          2017,
          2018,
          2019,
          2020,
          2021
         ],
         "yaxis": "y4",
         "z": [
          [
           0,
           1,
           0,
           0,
           0,
           0,
           0,
           0,
           0,
           0,
           0,
           0
          ],
          [
           0,
           0,
           1,
           0,
           0,
           0,
           0,
           5,
           4,
           3.5,
           0,
           0
          ],
          [
           0,
           3,
           0,
           8,
           0,
           0,
           0,
           0,
           0,
           0,
           4,
           5
          ],
          [
           0,
           4,
           4,
           1,
           2,
           6,
           1.5,
           0,
           5,
           1.5,
           1.5,
           3.142857142857143
          ],
          [
           1.5714285714285714,
           1.5,
           1.3333333333333333,
           1.75,
           2.5,
           1,
           1.5555555555555556,
           1.2727272727272727,
           2.1052631578947367,
           1.1578947368421053,
           1.3888888888888888,
           1.3181818181818181
          ],
          [
           1.5,
           1.1764705882352942,
           1.3421052631578947,
           1.4814814814814814,
           1.6956521739130435,
           1.8620689655172413,
           2.0588235294117645,
           1.5526315789473684,
           2.03125,
           1.793103448275862,
           2.1,
           1.368421052631579
          ],
          [
           2.4583333333333335,
           1.7916666666666667,
           2.0285714285714285,
           1.5,
           1.8888888888888888,
           1.5714285714285714,
           2.4074074074074074,
           1.3529411764705883,
           1.302325581395349,
           1.511111111111111,
           1.4444444444444444,
           1.540983606557377
          ],
          [
           1.972972972972973,
           1.6222222222222222,
           1.4339622641509433,
           1.7674418604651163,
           1.2083333333333333,
           1.8043478260869565,
           1.4576271186440677,
           1.4772727272727273,
           1.837837837837838,
           1.3384615384615384,
           1.5735294117647058,
           1.6382978723404256
          ],
          [
           1.4528301886792452,
           1.5476190476190477,
           1.4772727272727273,
           1.92,
           2,
           2.4146341463414633,
           1.6744186046511629,
           1.7659574468085106,
           2.30188679245283,
           1.9411764705882353,
           1.9607843137254901,
           1.7794117647058822
          ],
          [
           2,
           1.8636363636363635,
           1.7027027027027026,
           1.5471698113207548,
           1.7105263157894737,
           1.8072289156626506,
           2.5113636363636362,
           1.8032786885245902,
           2.2,
           0,
           0,
           0
          ]
         ]
        }
       ],
       "layout": {
        "annotations": [
         {
          "font": {
           "size": 16
          },
          "showarrow": false,
          "text": "Contagem de Filmes",
          "x": 0.225,
          "xanchor": "center",
          "xref": "paper",
          "y": 1,
          "yanchor": "bottom",
          "yref": "paper"
         },
         {
          "font": {
           "size": 16
          },
          "showarrow": false,
          "text": "Contagem de Séries",
          "x": 0.775,
          "xanchor": "center",
          "xref": "paper",
          "y": 1,
          "yanchor": "bottom",
          "yref": "paper"
         },
         {
          "font": {
           "size": 16
          },
          "showarrow": false,
          "text": "Tempo Médio dos Filmes (min)",
          "x": 0.225,
          "xanchor": "center",
          "xref": "paper",
          "y": 0.45,
          "yanchor": "bottom",
          "yref": "paper"
         },
         {
          "font": {
           "size": 16
          },
          "showarrow": false,
          "text": "Média de Temporadas das Séries",
          "x": 0.775,
          "xanchor": "center",
          "xref": "paper",
          "y": 0.45,
          "yanchor": "bottom",
          "yref": "paper"
         }
        ],
        "height": 800,
        "margin": {
         "t": 100
        },
        "template": {
         "data": {
          "bar": [
           {
            "error_x": {
             "color": "#2a3f5f"
            },
            "error_y": {
             "color": "#2a3f5f"
            },
            "marker": {
             "line": {
              "color": "#E5ECF6",
              "width": 0.5
             },
             "pattern": {
              "fillmode": "overlay",
              "size": 10,
              "solidity": 0.2
             }
            },
            "type": "bar"
           }
          ],
          "barpolar": [
           {
            "marker": {
             "line": {
              "color": "#E5ECF6",
              "width": 0.5
             },
             "pattern": {
              "fillmode": "overlay",
              "size": 10,
              "solidity": 0.2
             }
            },
            "type": "barpolar"
           }
          ],
          "carpet": [
           {
            "aaxis": {
             "endlinecolor": "#2a3f5f",
             "gridcolor": "white",
             "linecolor": "white",
             "minorgridcolor": "white",
             "startlinecolor": "#2a3f5f"
            },
            "baxis": {
             "endlinecolor": "#2a3f5f",
             "gridcolor": "white",
             "linecolor": "white",
             "minorgridcolor": "white",
             "startlinecolor": "#2a3f5f"
            },
            "type": "carpet"
           }
          ],
          "choropleth": [
           {
            "colorbar": {
             "outlinewidth": 0,
             "ticks": ""
            },
            "type": "choropleth"
           }
          ],
          "contour": [
           {
            "colorbar": {
             "outlinewidth": 0,
             "ticks": ""
            },
            "colorscale": [
             [
              0,
              "#0d0887"
             ],
             [
              0.1111111111111111,
              "#46039f"
             ],
             [
              0.2222222222222222,
              "#7201a8"
             ],
             [
              0.3333333333333333,
              "#9c179e"
             ],
             [
              0.4444444444444444,
              "#bd3786"
             ],
             [
              0.5555555555555556,
              "#d8576b"
             ],
             [
              0.6666666666666666,
              "#ed7953"
             ],
             [
              0.7777777777777778,
              "#fb9f3a"
             ],
             [
              0.8888888888888888,
              "#fdca26"
             ],
             [
              1,
              "#f0f921"
             ]
            ],
            "type": "contour"
           }
          ],
          "contourcarpet": [
           {
            "colorbar": {
             "outlinewidth": 0,
             "ticks": ""
            },
            "type": "contourcarpet"
           }
          ],
          "heatmap": [
           {
            "colorbar": {
             "outlinewidth": 0,
             "ticks": ""
            },
            "colorscale": [
             [
              0,
              "#0d0887"
             ],
             [
              0.1111111111111111,
              "#46039f"
             ],
             [
              0.2222222222222222,
              "#7201a8"
             ],
             [
              0.3333333333333333,
              "#9c179e"
             ],
             [
              0.4444444444444444,
              "#bd3786"
             ],
             [
              0.5555555555555556,
              "#d8576b"
             ],
             [
              0.6666666666666666,
              "#ed7953"
             ],
             [
              0.7777777777777778,
              "#fb9f3a"
             ],
             [
              0.8888888888888888,
              "#fdca26"
             ],
             [
              1,
              "#f0f921"
             ]
            ],
            "type": "heatmap"
           }
          ],
          "heatmapgl": [
           {
            "colorbar": {
             "outlinewidth": 0,
             "ticks": ""
            },
            "colorscale": [
             [
              0,
              "#0d0887"
             ],
             [
              0.1111111111111111,
              "#46039f"
             ],
             [
              0.2222222222222222,
              "#7201a8"
             ],
             [
              0.3333333333333333,
              "#9c179e"
             ],
             [
              0.4444444444444444,
              "#bd3786"
             ],
             [
              0.5555555555555556,
              "#d8576b"
             ],
             [
              0.6666666666666666,
              "#ed7953"
             ],
             [
              0.7777777777777778,
              "#fb9f3a"
             ],
             [
              0.8888888888888888,
              "#fdca26"
             ],
             [
              1,
              "#f0f921"
             ]
            ],
            "type": "heatmapgl"
           }
          ],
          "histogram": [
           {
            "marker": {
             "pattern": {
              "fillmode": "overlay",
              "size": 10,
              "solidity": 0.2
             }
            },
            "type": "histogram"
           }
          ],
          "histogram2d": [
           {
            "colorbar": {
             "outlinewidth": 0,
             "ticks": ""
            },
            "colorscale": [
             [
              0,
              "#0d0887"
             ],
             [
              0.1111111111111111,
              "#46039f"
             ],
             [
              0.2222222222222222,
              "#7201a8"
             ],
             [
              0.3333333333333333,
              "#9c179e"
             ],
             [
              0.4444444444444444,
              "#bd3786"
             ],
             [
              0.5555555555555556,
              "#d8576b"
             ],
             [
              0.6666666666666666,
              "#ed7953"
             ],
             [
              0.7777777777777778,
              "#fb9f3a"
             ],
             [
              0.8888888888888888,
              "#fdca26"
             ],
             [
              1,
              "#f0f921"
             ]
            ],
            "type": "histogram2d"
           }
          ],
          "histogram2dcontour": [
           {
            "colorbar": {
             "outlinewidth": 0,
             "ticks": ""
            },
            "colorscale": [
             [
              0,
              "#0d0887"
             ],
             [
              0.1111111111111111,
              "#46039f"
             ],
             [
              0.2222222222222222,
              "#7201a8"
             ],
             [
              0.3333333333333333,
              "#9c179e"
             ],
             [
              0.4444444444444444,
              "#bd3786"
             ],
             [
              0.5555555555555556,
              "#d8576b"
             ],
             [
              0.6666666666666666,
              "#ed7953"
             ],
             [
              0.7777777777777778,
              "#fb9f3a"
             ],
             [
              0.8888888888888888,
              "#fdca26"
             ],
             [
              1,
              "#f0f921"
             ]
            ],
            "type": "histogram2dcontour"
           }
          ],
          "mesh3d": [
           {
            "colorbar": {
             "outlinewidth": 0,
             "ticks": ""
            },
            "type": "mesh3d"
           }
          ],
          "parcoords": [
           {
            "line": {
             "colorbar": {
              "outlinewidth": 0,
              "ticks": ""
             }
            },
            "type": "parcoords"
           }
          ],
          "pie": [
           {
            "automargin": true,
            "type": "pie"
           }
          ],
          "scatter": [
           {
            "fillpattern": {
             "fillmode": "overlay",
             "size": 10,
             "solidity": 0.2
            },
            "type": "scatter"
           }
          ],
          "scatter3d": [
           {
            "line": {
             "colorbar": {
              "outlinewidth": 0,
              "ticks": ""
             }
            },
            "marker": {
             "colorbar": {
              "outlinewidth": 0,
              "ticks": ""
             }
            },
            "type": "scatter3d"
           }
          ],
          "scattercarpet": [
           {
            "marker": {
             "colorbar": {
              "outlinewidth": 0,
              "ticks": ""
             }
            },
            "type": "scattercarpet"
           }
          ],
          "scattergeo": [
           {
            "marker": {
             "colorbar": {
              "outlinewidth": 0,
              "ticks": ""
             }
            },
            "type": "scattergeo"
           }
          ],
          "scattergl": [
           {
            "marker": {
             "colorbar": {
              "outlinewidth": 0,
              "ticks": ""
             }
            },
            "type": "scattergl"
           }
          ],
          "scattermapbox": [
           {
            "marker": {
             "colorbar": {
              "outlinewidth": 0,
              "ticks": ""
             }
            },
            "type": "scattermapbox"
           }
          ],
          "scatterpolar": [
           {
            "marker": {
             "colorbar": {
              "outlinewidth": 0,
              "ticks": ""
             }
            },
            "type": "scatterpolar"
           }
          ],
          "scatterpolargl": [
           {
            "marker": {
             "colorbar": {
              "outlinewidth": 0,
              "ticks": ""
             }
            },
            "type": "scatterpolargl"
           }
          ],
          "scatterternary": [
           {
            "marker": {
             "colorbar": {
              "outlinewidth": 0,
              "ticks": ""
             }
            },
            "type": "scatterternary"
           }
          ],
          "surface": [
           {
            "colorbar": {
             "outlinewidth": 0,
             "ticks": ""
            },
            "colorscale": [
             [
              0,
              "#0d0887"
             ],
             [
              0.1111111111111111,
              "#46039f"
             ],
             [
              0.2222222222222222,
              "#7201a8"
             ],
             [
              0.3333333333333333,
              "#9c179e"
             ],
             [
              0.4444444444444444,
              "#bd3786"
             ],
             [
              0.5555555555555556,
              "#d8576b"
             ],
             [
              0.6666666666666666,
              "#ed7953"
             ],
             [
              0.7777777777777778,
              "#fb9f3a"
             ],
             [
              0.8888888888888888,
              "#fdca26"
             ],
             [
              1,
              "#f0f921"
             ]
            ],
            "type": "surface"
           }
          ],
          "table": [
           {
            "cells": {
             "fill": {
              "color": "#EBF0F8"
             },
             "line": {
              "color": "white"
             }
            },
            "header": {
             "fill": {
              "color": "#C8D4E3"
             },
             "line": {
              "color": "white"
             }
            },
            "type": "table"
           }
          ]
         },
         "layout": {
          "annotationdefaults": {
           "arrowcolor": "#2a3f5f",
           "arrowhead": 0,
           "arrowwidth": 1
          },
          "autotypenumbers": "strict",
          "coloraxis": {
           "colorbar": {
            "outlinewidth": 0,
            "ticks": ""
           }
          },
          "colorscale": {
           "diverging": [
            [
             0,
             "#8e0152"
            ],
            [
             0.1,
             "#c51b7d"
            ],
            [
             0.2,
             "#de77ae"
            ],
            [
             0.3,
             "#f1b6da"
            ],
            [
             0.4,
             "#fde0ef"
            ],
            [
             0.5,
             "#f7f7f7"
            ],
            [
             0.6,
             "#e6f5d0"
            ],
            [
             0.7,
             "#b8e186"
            ],
            [
             0.8,
             "#7fbc41"
            ],
            [
             0.9,
             "#4d9221"
            ],
            [
             1,
             "#276419"
            ]
           ],
           "sequential": [
            [
             0,
             "#0d0887"
            ],
            [
             0.1111111111111111,
             "#46039f"
            ],
            [
             0.2222222222222222,
             "#7201a8"
            ],
            [
             0.3333333333333333,
             "#9c179e"
            ],
            [
             0.4444444444444444,
             "#bd3786"
            ],
            [
             0.5555555555555556,
             "#d8576b"
            ],
            [
             0.6666666666666666,
             "#ed7953"
            ],
            [
             0.7777777777777778,
             "#fb9f3a"
            ],
            [
             0.8888888888888888,
             "#fdca26"
            ],
            [
             1,
             "#f0f921"
            ]
           ],
           "sequentialminus": [
            [
             0,
             "#0d0887"
            ],
            [
             0.1111111111111111,
             "#46039f"
            ],
            [
             0.2222222222222222,
             "#7201a8"
            ],
            [
             0.3333333333333333,
             "#9c179e"
            ],
            [
             0.4444444444444444,
             "#bd3786"
            ],
            [
             0.5555555555555556,
             "#d8576b"
            ],
            [
             0.6666666666666666,
             "#ed7953"
            ],
            [
             0.7777777777777778,
             "#fb9f3a"
            ],
            [
             0.8888888888888888,
             "#fdca26"
            ],
            [
             1,
             "#f0f921"
            ]
           ]
          },
          "colorway": [
           "#636efa",
           "#EF553B",
           "#00cc96",
           "#ab63fa",
           "#FFA15A",
           "#19d3f3",
           "#FF6692",
           "#B6E880",
           "#FF97FF",
           "#FECB52"
          ],
          "font": {
           "color": "#2a3f5f"
          },
          "geo": {
           "bgcolor": "white",
           "lakecolor": "white",
           "landcolor": "#E5ECF6",
           "showlakes": true,
           "showland": true,
           "subunitcolor": "white"
          },
          "hoverlabel": {
           "align": "left"
          },
          "hovermode": "closest",
          "mapbox": {
           "style": "light"
          },
          "paper_bgcolor": "white",
          "plot_bgcolor": "#E5ECF6",
          "polar": {
           "angularaxis": {
            "gridcolor": "white",
            "linecolor": "white",
            "ticks": ""
           },
           "bgcolor": "#E5ECF6",
           "radialaxis": {
            "gridcolor": "white",
            "linecolor": "white",
            "ticks": ""
           }
          },
          "scene": {
           "xaxis": {
            "backgroundcolor": "#E5ECF6",
            "gridcolor": "white",
            "gridwidth": 2,
            "linecolor": "white",
            "showbackground": true,
            "ticks": "",
            "zerolinecolor": "white"
           },
           "yaxis": {
            "backgroundcolor": "#E5ECF6",
            "gridcolor": "white",
            "gridwidth": 2,
            "linecolor": "white",
            "showbackground": true,
            "ticks": "",
            "zerolinecolor": "white"
           },
           "zaxis": {
            "backgroundcolor": "#E5ECF6",
            "gridcolor": "white",
            "gridwidth": 2,
            "linecolor": "white",
            "showbackground": true,
            "ticks": "",
            "zerolinecolor": "white"
           }
          },
          "shapedefaults": {
           "line": {
            "color": "#2a3f5f"
           }
          },
          "ternary": {
           "aaxis": {
            "gridcolor": "white",
            "linecolor": "white",
            "ticks": ""
           },
           "baxis": {
            "gridcolor": "white",
            "linecolor": "white",
            "ticks": ""
           },
           "bgcolor": "#E5ECF6",
           "caxis": {
            "gridcolor": "white",
            "linecolor": "white",
            "ticks": ""
           }
          },
          "title": {
           "x": 0.05
          },
          "xaxis": {
           "automargin": true,
           "gridcolor": "white",
           "linecolor": "white",
           "ticks": "",
           "title": {
            "standoff": 15
           },
           "zerolinecolor": "white",
           "zerolinewidth": 2
          },
          "yaxis": {
           "automargin": true,
           "gridcolor": "white",
           "linecolor": "white",
           "ticks": "",
           "title": {
            "standoff": 15
           },
           "zerolinecolor": "white",
           "zerolinewidth": 2
          }
         }
        },
        "title": {
         "text": "Distribuição Mensal de Filmes e Séries Adicionados por Ano"
        },
        "xaxis": {
         "anchor": "y",
         "domain": [
          0,
          0.45
         ],
         "title": {
          "text": "Mês"
         }
        },
        "xaxis2": {
         "anchor": "y2",
         "domain": [
          0.55,
          1
         ],
         "title": {
          "text": "Mês"
         }
        },
        "xaxis3": {
         "anchor": "y3",
         "domain": [
          0,
          0.45
         ],
         "title": {
          "text": "Mês"
         }
        },
        "xaxis4": {
         "anchor": "y4",
         "domain": [
          0.55,
          1
         ],
         "title": {
          "text": "Mês"
         }
        },
        "yaxis": {
         "anchor": "x",
         "autorange": "reversed",
         "domain": [
          0.55,
          1
         ],
         "title": {
          "text": "Ano"
         }
        },
        "yaxis2": {
         "anchor": "x2",
         "autorange": "reversed",
         "domain": [
          0.55,
          1
         ],
         "matches": "y",
         "showticklabels": false
        },
        "yaxis3": {
         "anchor": "x3",
         "autorange": "reversed",
         "domain": [
          0,
          0.45
         ],
         "title": {
          "text": "Ano"
         }
        },
        "yaxis4": {
         "anchor": "x4",
         "autorange": "reversed",
         "domain": [
          0,
          0.45
         ],
         "matches": "y3",
         "showticklabels": false
        }
       }
      }
     },
     "metadata": {},
     "output_type": "display_data"
    }
   ],
   "source": [
    "from plotly.subplots import make_subplots\n",
    "import calendar\n",
    "\n",
    "# Cria as colunas year_added e month_added.\n",
    "df['date_added'] = pd.to_datetime(df['date_added'], format='%B %d, %Y', errors='coerce')\n",
    "df = df.dropna(subset=['date_added'])  # Remover linhas com datas inválidas\n",
    "\n",
    "df['year_added'] = df['date_added'].dt.year.astype(int)\n",
    "df['month_added'] = df['date_added'].dt.month.astype(int)\n",
    "\n",
    "# Extrai apenas os números da coluna duration.\n",
    "df['duration_num'] = df['duration'].str.extract(r'(\\d+)').astype(float)\n",
    "\n",
    "# Agrupa os dados para filmes: contagem.\n",
    "movies_heatmap_data = df[df['type'] == 'Movie'].groupby(['year_added', 'month_added']).size().unstack(fill_value=0)\n",
    "\n",
    "# Garante que todos os meses de 1 a 12 estejam presentes.\n",
    "movies_heatmap_data = movies_heatmap_data.reindex(columns=range(1, 13), fill_value=0)\n",
    "movies_heatmap_data = movies_heatmap_data.sort_index()\n",
    "\n",
    "# Agrupa os dados para séries: contagem.\n",
    "tv_shows_heatmap_data = df[df['type'] == 'TV Show'].groupby(['year_added', 'month_added']).size().unstack(fill_value=0)\n",
    "\n",
    "# Garante que todos os meses estejam presentes.\n",
    "tv_shows_heatmap_data = tv_shows_heatmap_data.reindex(columns=range(1, 13), fill_value=0)\n",
    "tv_shows_heatmap_data = tv_shows_heatmap_data.sort_index()\n",
    "\n",
    "# Agrupa os dados para filmes: média de duração.\n",
    "movies_avg_duration = df[df['type'] == 'Movie'].groupby(['year_added', 'month_added'])['duration_num'].mean().unstack(fill_value=0)\n",
    "\n",
    "# Garante que todos os meses estejam presentes.\n",
    "movies_avg_duration = movies_avg_duration.reindex(columns=range(1, 13), fill_value=0)\n",
    "movies_avg_duration = movies_avg_duration.sort_index()\n",
    "\n",
    "# Agrupa os dados para séries: média de temporadas.\n",
    "tv_shows_avg_seasons = df[df['type'] == 'TV Show'].groupby(['year_added', 'month_added'])['duration_num'].mean().unstack(fill_value=0)\n",
    "\n",
    "# Garante que todos os meses estejam presentes.\n",
    "tv_shows_avg_seasons = tv_shows_avg_seasons.reindex(columns=range(1, 13), fill_value=0)\n",
    "tv_shows_avg_seasons = tv_shows_avg_seasons.sort_index()\n",
    "\n",
    "# Cria subplots 2 linhas x 2 colunas.\n",
    "fig = make_subplots(\n",
    "    rows=2,\n",
    "    cols=2,\n",
    "    subplot_titles=(\n",
    "        \"Contagem de Filmes\",\n",
    "        \"Contagem de Séries\",\n",
    "        \"Tempo Médio dos Filmes (min)\",\n",
    "        \"Média de Temporadas das Séries\"\n",
    "    ),\n",
    "    shared_yaxes=True,\n",
    "    vertical_spacing=0.1\n",
    ")\n",
    "# Heatmap para contagem de filmes.\n",
    "fig.add_trace(\n",
    "    go.Heatmap(\n",
    "        z=movies_heatmap_data.values,\n",
    "        x=[calendar.month_name[i] for i in movies_heatmap_data.columns],\n",
    "        y=movies_heatmap_data.index,\n",
    "        colorscale='Blues',\n",
    "        showscale=False,\n",
    "        hovertemplate='Ano: %{y}<br>Mês: %{x}<br>Filmes: %{z}<extra></extra>'\n",
    "    ),\n",
    "    row=1,\n",
    "    col=1\n",
    ")\n",
    "# Heatmap para contagem de séries.\n",
    "fig.add_trace(\n",
    "    go.Heatmap(\n",
    "        z=tv_shows_heatmap_data.values,\n",
    "        x=[calendar.month_name[i] for i in tv_shows_heatmap_data.columns],\n",
    "        y=tv_shows_heatmap_data.index,\n",
    "        colorscale='Reds',\n",
    "        showscale=False,\n",
    "        hovertemplate='Ano: %{y}<br>Mês: %{x}<br>Séries: %{z}<extra></extra>'\n",
    "    ),\n",
    "    row=1,\n",
    "    col=2\n",
    ")\n",
    "# Heatmap para tempo médio dos filmes.\n",
    "fig.add_trace(\n",
    "    go.Heatmap(\n",
    "        z=movies_avg_duration.values,\n",
    "        x=[calendar.month_name[i] for i in movies_avg_duration.columns],\n",
    "        y=movies_avg_duration.index,\n",
    "        colorscale='Greens',\n",
    "        showscale=False,\n",
    "        hovertemplate='Ano: %{y}<br>Mês: %{x}<br>Tempo Médio (min): %{z:.2f}<extra></extra>'\n",
    "    ),\n",
    "    row=2,\n",
    "    col=1\n",
    ")\n",
    "# Heatmap para média de temporadas das séries.\n",
    "fig.add_trace(\n",
    "    go.Heatmap(\n",
    "        z=tv_shows_avg_seasons.values,\n",
    "        x=[calendar.month_name[i] for i in tv_shows_avg_seasons.columns],\n",
    "        y=tv_shows_avg_seasons.index,\n",
    "        colorscale='Purples',\n",
    "        showscale=False,\n",
    "        hovertemplate='Ano: %{y}<br>Mês: %{x}<br>Média de Temporadas: %{z:.2f}<extra></extra>'\n",
    "    ),\n",
    "    row=2,\n",
    "    col=2\n",
    ")\n",
    "# Atualiza o layout dos gráficos.\n",
    "fig.update_layout(\n",
    "    title='Distribuição Mensal de Filmes e Séries Adicionados por Ano',\n",
    "    xaxis_title='Mês',\n",
    "    yaxis_title='Ano',\n",
    "    xaxis2_title='Mês',\n",
    "    xaxis3_title='Mês',\n",
    "    xaxis4_title='Mês',\n",
    "    yaxis3_title='Ano',\n",
    "    yaxis=dict(autorange='reversed'),  \n",
    "    yaxis2=dict(autorange='reversed'),\n",
    "    yaxis3=dict(autorange='reversed'),\n",
    "    yaxis4=dict(autorange='reversed'),\n",
    "    margin=dict(t=100),\n",
    "    height=800 \n",
    ")\n",
    "# Exibe o gráfico.\n",
    "fig.show()"
   ]
  },
  {
   "cell_type": "markdown",
   "metadata": {
    "collapsed": false,
    "pycharm": {
     "name": "#%% md\n"
    }
   },
   "source": [
    "## Critical reflection\n",
    "#### Write down 2-3 paragraphs (190-240 words) with your reflection about the obtained visualizations.\n",
    "\n",
    "Os gráficos escolhidos para representar um conjunto de dados específicos do dataset netflix_titles.csv seguiram alguns critérios para que as visualizações pudessem mostrar de forma mais clara as tarefas relacionadas ao número de produções audivisuais adicionadas, ao número médio de reprodução e temporadas, e a idade média das mídias produzidas e adicionados a cada ano. O gráfico de barras sugere uma visualizaçao onde se compara valores categóricos (filmes x TvShows). Foi comparado o ano com a quantidade de mídias adicionados. O terceiro atributo que representa os valores da coluna 'duration' foi inserido no gráfico na forma de tonalidades das cores. Gráficos com cores mais intensos significaria tempo de reprodução (minutos) ou quantidade de temporadas maiores, e por sua vez cores menos intensas representariam o oposto (menores). Um quarto atributo foi inserido em cada célula do gráfico para mostrar a idade média dos filmes produzidos num determinado ano. O gráfico de linhas sugere uma visualização de tendência dos dados ao longo do tempo. Foi inserido quatro linhas para fazer a representação da quantidade de mídias adicionadas e o tempo médio em minutos para filmes e média de temporadas para TVShows. O gráfico de bolhas sugere uma visualização tridimensional que facilita a identificação de padrões baseados no tamanho e na cor das bolhas. O gráfico de mapa de calor sugere uma visualização de dados baseada na tonalidade de cor de cada célula. É ideal para identificar padrões de distribuição ao longo de dois eixos (ano e mês)."
   ]
  },
  {
   "cell_type": "markdown",
   "metadata": {
    "collapsed": false,
    "pycharm": {
     "name": "#%% md\n"
    }
   },
   "source": [
    "## References\n",
    "#### All the sources you have used in this project should cited and credited in this section.\n",
    "\n",
    "[https://datos.gob.es/sites/default/files/doc/file/data_visualization_tool_report.pdf]\n",
    "[https://www.di.fc.ul.pt/~tc/papers/2013_EPCG_VisTempVideo.pdf]\n",
    "[https://www.alea.pt/images/dossies_pdf/dossier9.pdf]\n",
    "[https://infodesign.org.br/public/journals/1/V7_n2_2010/ID_v7_n2_2010_01_06_Portugal.pdf?download=1&phpMyAdmin=H8DwcFLEmv4B1mx8YJNY1MFYs4e]\n"
   ]
  }
 ],
 "metadata": {
  "kernelspec": {
   "display_name": "Python 3",
   "language": "python",
   "name": "python3"
  },
  "language_info": {
   "codemirror_mode": {
    "name": "ipython",
    "version": 3
   },
   "file_extension": ".py",
   "mimetype": "text/x-python",
   "name": "python",
   "nbconvert_exporter": "python",
   "pygments_lexer": "ipython3",
   "version": "3.12.6"
  }
 },
 "nbformat": 4,
 "nbformat_minor": 0
}
